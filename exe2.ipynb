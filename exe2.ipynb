{
 "cells": [
  {
   "attachments": {},
   "cell_type": "markdown",
   "metadata": {},
   "source": [
    "# Introduction to Computer Programming\n",
    "### Disclaimer\n",
    "This is a repository with the code for a variety of algorithms. The code is written in Python and uses the following libraries:\n",
    "- math\n",
    "- random\n",
    "\n",
    "Use at your own risk. The code is not guaranteed to be correct or to work as intended. \n",
    "\n",
    "## Group 2 Exercises\n",
    "- author: Joao Ferreira\n",
    "- date: 2023-03-12\n",
    "- notebook: LEM_PC1/exee.ipynb"
   ]
  },
  {
   "cell_type": "code",
   "execution_count": 2,
   "metadata": {},
   "outputs": [],
   "source": [
    "# import libraries\n",
    "import math"
   ]
  },
  {
   "attachments": {},
   "cell_type": "markdown",
   "metadata": {},
   "source": [
    "## 2 - Write functions to compute the following:\n",
    "- a - The sum of two vectors\n",
    "- b - The norm of a vector\n",
    "- c - The dot product of two vectors\n",
    "- d - The product of an vector by a scalar\n",
    "- extra - The cross product of two vectors\n"
   ]
  },
  {
   "cell_type": "code",
   "execution_count": 5,
   "metadata": {},
   "outputs": [
    {
     "name": "stdout",
     "output_type": "stream",
     "text": [
      "Sum of [1, 2, 3] and [4, 5, 6]: [5, 7, 9]\n",
      "Morm of [1, 2, 3]: 3.7416573867739413\n",
      "Dot product of [1, 2, 3] and [4, 5, 6]: 32\n",
      "Product of [1, 2, 3] by 2 [2, 4, 6]\n",
      "Angle between [1, 2, 3] and [4, 5, 6]: 0.2257261285527342\n",
      "Cross product between [1, 2, 3] and [4, 5, 6]: [-3, 6, -3]\n"
     ]
    }
   ],
   "source": [
    "# function to sum two vectors\n",
    "def sum_vectors(v1, v2):\n",
    "    v3 = [0]*len(v1)\n",
    "    for i in range(len(v1)):\n",
    "        v3[i] = v1[i] + v2[i]\n",
    "    return v3\n",
    "\n",
    "#function to calculate norm of a vector\n",
    "def norm(v):\n",
    "    sum = 0\n",
    "    for i in range(len(v)):\n",
    "        sum += v[i]**2\n",
    "    return math.sqrt(sum)\n",
    "\n",
    "#function to calculate dot product of two vectors\n",
    "def dot_product(v1, v2):\n",
    "    sum = 0\n",
    "    for i in range(len(v1)):\n",
    "        sum += v1[i]*v2[i]\n",
    "    return sum\n",
    "\n",
    "#function  to multiply a vector by a scalar\n",
    "def scalar_mult(scalar, v):\n",
    "    v2 = [0]*len(v)\n",
    "    for i in range(len(v)):\n",
    "        v2[i] = scalar*v[i]\n",
    "    return v2\n",
    "\n",
    "# EXTRA\n",
    "\n",
    "#function to calculate the angle between two vectors\n",
    "def angle(v1, v2):\n",
    "    return math.acos(dot_product(v1, v2)/(norm(v1)*norm(v2)))\n",
    "\n",
    "#function to calculte the cross product between two 3D vectors\n",
    "def cross_product(v1, v2):\n",
    "    v3 = [0]*3\n",
    "    v3[0] = v1[1]*v2[2] - v1[2]*v2[1]\n",
    "    v3[1] = v1[2]*v2[0] - v1[0]*v2[2]\n",
    "    v3[2] = v1[0]*v2[1] - v1[1]*v2[0]\n",
    "    return v3\n",
    "\n",
    "#test all functions\n",
    "v1 = [1, 2, 3]\n",
    "v2 = [4, 5, 6]\n",
    "v3 = sum_vectors(v1, v2)\n",
    "\n",
    "print(f\"Sum of {v1} and {v2}: {v3}\")\n",
    "print(f\"Morm of {v1}: {norm(v1)}\")\n",
    "print(f\"Dot product of {v1} and {v2}: {dot_product(v1, v2)}\")\n",
    "print(f\"Product of {v1} by 2 {scalar_mult(2, v1)}\")\n",
    "print(f\"Angle between {v1} and {v2}: {angle(v1, v2)}\")\n",
    "print(f\"Cross product between {v1} and {v2}: {cross_product(v1, v2)}\")\n"
   ]
  },
  {
   "attachments": {},
   "cell_type": "markdown",
   "metadata": {},
   "source": [
    "## 3 -  Calculate $\\lVert{\\left(AB\\right)C + kA}\\rVert$"
   ]
  },
  {
   "cell_type": "code",
   "execution_count": 7,
   "metadata": {},
   "outputs": [
    {
     "name": "stdout",
     "output_type": "stream",
     "text": [
      "Result: 452.89292332735783\n"
     ]
    }
   ],
   "source": [
    "#define vectors and scalar\n",
    "a = [1, 2, 3]\n",
    "b = [4, 5, 6]\n",
    "c = [7, 8, 9]\n",
    "k = 2\n",
    "\n",
    "#calculate the result of the operations\n",
    "scalar1 = dot_product(a, b)\n",
    "v1 = scalar_mult(scalar1, c)\n",
    "v2 = scalar_mult(k,a)\n",
    "v3 = sum_vectors(v1, v2)\n",
    "result = norm(v3)\n",
    "print(f\"Result: {result}\")\n"
   ]
  },
  {
   "attachments": {},
   "cell_type": "markdown",
   "metadata": {},
   "source": [
    "## 4 - Create a vector with the divisors of an integer"
   ]
  },
  {
   "cell_type": "code",
   "execution_count": 13,
   "metadata": {},
   "outputs": [
    {
     "name": "stdout",
     "output_type": "stream",
     "text": [
      "Divisors of 1000: [1, 2, 4, 5, 8, 10, 20, 25, 40, 50, 100, 125, 200, 250, 500, 1000]\n",
      "Divisors of 1000: [1, 2, 4, 5, 8, 10, 20, 25, 40, 50, 100, 125, 200, 250, 500, 1000]\n"
     ]
    }
   ],
   "source": [
    "# function to create a vector with the divisors of an integer. use append method or list comprehension\n",
    "def divisors(n):\n",
    "    div = []\n",
    "    # go from 1 to (n+1)//2 and check if n is divisible by i\n",
    "    for i in range(1, n//2 + 1):\n",
    "        if n%i == 0:\n",
    "            div.append(i)\n",
    "    # add n to the list\n",
    "    div.append(n)\n",
    "    return div\n",
    "\n",
    "# use list comprehension. sligtly more efficient\n",
    "def divisors2(n):\n",
    "    return [i for i in range(1, n//2 + 1) if n%i == 0] + [n]\n",
    "\n",
    "# test the functions. compute efficiency of both functions\n",
    "n = 1000\n",
    "print(f\"Divisors of {n}: {divisors(n)}\")\n",
    "print(f\"Divisors of {n}: {divisors2(n)}\")\n"
   ]
  },
  {
   "attachments": {},
   "cell_type": "markdown",
   "metadata": {},
   "source": [
    "## 5 - Calculate the Collatz sequence for a given integer"
   ]
  },
  {
   "cell_type": "code",
   "execution_count": 14,
   "metadata": {},
   "outputs": [
    {
     "name": "stdout",
     "output_type": "stream",
     "text": [
      "Collatz sequence of 100: [100, 50, 25, 76, 38, 19, 58, 29, 88, 44, 22, 11, 34, 17, 52, 26, 13, 40, 20, 10, 5, 16, 8, 4, 2, 1]\n"
     ]
    }
   ],
   "source": [
    "#function to calculate the Collatz sequence of a number. use append method\n",
    "def collatz(n):\n",
    "    seq = [n]\n",
    "    while n != 1:\n",
    "        if n%2 == 0:\n",
    "            n = n//2\n",
    "        else:\n",
    "            n = 3*n + 1\n",
    "        seq.append(n)\n",
    "    return seq\n",
    "\n",
    "#test the function\n",
    "n = 100\n",
    "print(f\"Collatz sequence of {n}: {collatz(n)}\")"
   ]
  },
  {
   "attachments": {},
   "cell_type": "markdown",
   "metadata": {},
   "source": [
    "## 6 - Calculate the calculate the geometric mean of a list of numbers in a vector"
   ]
  },
  {
   "cell_type": "code",
   "execution_count": 15,
   "metadata": {},
   "outputs": [
    {
     "name": "stdout",
     "output_type": "stream",
     "text": [
      "Geometric mean of [1, 2, 3, 4, 5]: 2.605171084697352\n"
     ]
    }
   ],
   "source": [
    "# function to calculate the geometric mean of a list of numbers in a vector\n",
    "def geo_mean(v):\n",
    "    prod = 1\n",
    "    for i in range(len(v)):\n",
    "        prod *= v[i]\n",
    "    return prod**(1/len(v))\n",
    "\n",
    "#test the function\n",
    "v = [1, 2, 3, 4, 5]\n",
    "print(f\"Geometric mean of {v}: {geo_mean(v)}\")"
   ]
  },
  {
   "attachments": {},
   "cell_type": "markdown",
   "metadata": {},
   "source": [
    "## 7 - Calculate the mean and standard deviation of a list of numbers in a vector"
   ]
  },
  {
   "cell_type": "code",
   "execution_count": 16,
   "metadata": {},
   "outputs": [
    {
     "name": "stdout",
     "output_type": "stream",
     "text": [
      "Mean of [1, 2, 3, 4, 5]: 3.0\n",
      "Standard deviation of [1, 2, 3, 4, 5]: 1.5811388300841898\n"
     ]
    }
   ],
   "source": [
    "# function to calculate the mean of a list of numbers in a vector\n",
    "def mean(v):\n",
    "    sum = 0\n",
    "    for i in range(len(v)):\n",
    "        sum += v[i]\n",
    "    return sum/len(v)\n",
    "\n",
    "# function to calculate the standard deviation of a list of numbers in a vector. use the mean function\n",
    "def std_dev(v):\n",
    "    m = mean(v)\n",
    "    sum = 0\n",
    "    for i in range(len(v)):\n",
    "        sum += (v[i] - m)**2\n",
    "    return math.sqrt(sum/(len(v)-1))\n",
    "\n",
    "# test the functions\n",
    "v = [1, 2, 3, 4, 5]\n",
    "print(f\"Mean of {v}: {mean(v)}\")\n",
    "print(f\"Standard deviation of {v}: {std_dev(v)}\")\n"
   ]
  },
  {
   "attachments": {},
   "cell_type": "markdown",
   "metadata": {},
   "source": [
    "## 8 - Find the maximum and its position in a vector"
   ]
  },
  {
   "cell_type": "code",
   "execution_count": 20,
   "metadata": {},
   "outputs": [
    {
     "name": "stdout",
     "output_type": "stream",
     "text": [
      "Maximum and its position of [1, 2, 3, 4, 5, 3, 5, 6, 7, 8, 9, 10, 11, 12, 13, 14, 15]: (15, 16)\n"
     ]
    }
   ],
   "source": [
    "# function to find the maximum and its position in a vector\n",
    "def max_vector(v):\n",
    "    m = v[0]\n",
    "    pos = 0\n",
    "    for i in range(len(v)):\n",
    "        if v[i] > m: # takes the last position if there are more than one maximum\n",
    "            m = v[i]\n",
    "            pos = i\n",
    "    return m, pos\n",
    "\n",
    "# test the function\n",
    "v = [1, 2, 3, 4, 5, 3, 5 , 6, 7, 8, 9, 10, 11, 12, 13, 14, 15]\n",
    "print(f\"Maximum and its position of {v}: {max_vector(v)}\")"
   ]
  },
  {
   "attachments": {},
   "cell_type": "markdown",
   "metadata": {},
   "source": [
    "## 9 - Swap the maximum and minimum values in a vector"
   ]
  },
  {
   "cell_type": "code",
   "execution_count": 24,
   "metadata": {},
   "outputs": [
    {
     "name": "stdout",
     "output_type": "stream",
     "text": [
      "Vector with swapped maximum and minimum values of [1, 2, 3, 4, 5]: [5, 2, 3, 4, 1]\n"
     ]
    }
   ],
   "source": [
    "# function to Swap the maximum and minimum values in a vector. do not use other unctions\n",
    "def swap_max_min(v):\n",
    "    m = v[0]\n",
    "    pos_m = 0\n",
    "    M = v[0]\n",
    "    pos_M = 0\n",
    "    for i in range(len(v)):\n",
    "        if v[i] > M:\n",
    "            M = v[i]\n",
    "            pos_M = i\n",
    "        if v[i] < m:\n",
    "            m = v[i]\n",
    "            pos_m = i\n",
    "    v[pos_M] = m\n",
    "    v[pos_m] = M\n",
    "    return v\n",
    "\n",
    "# test the function\n",
    "v = [1, 2, 3, 4, 5]\n",
    "print(f\"Vector with swapped maximum and minimum values of {v}: {swap_max_min(v)}\")"
   ]
  },
  {
   "attachments": {},
   "cell_type": "markdown",
   "metadata": {},
   "source": [
    "## 10 - Find the odd indices elements of a vector with another vector"
   ]
  },
  {
   "cell_type": "code",
   "execution_count": 25,
   "metadata": {},
   "outputs": [
    {
     "name": "stdout",
     "output_type": "stream",
     "text": [
      "Vectors with swapped odd indices of [1, 2, 3, 4, 5] and [6, 7, 8, 9, 10]: ([6, 2, 8, 4, 10], [1, 7, 3, 9, 5])\n"
     ]
    }
   ],
   "source": [
    "#function to find the even indices elements of a vector with another vector\n",
    "def swap_odd_indices(x,y):\n",
    "    for i in range(0, len(x), 2):\n",
    "        aux = x[i]\n",
    "        x[i] = y[i]\n",
    "        y[i] = aux\n",
    "        # or x[i], y[i] = y[i], x[i]\n",
    "    return x, y\n",
    "\n",
    "# test the function\n",
    "x = [1, 2, 3, 4, 5]\n",
    "y = [6, 7, 8, 9, 10]\n",
    "print(f\"Vectors with swapped odd indices of {x} and {y}: {swap_odd_indices(x, y)}\")"
   ]
  },
  {
   "cell_type": "code",
   "execution_count": null,
   "metadata": {},
   "outputs": [],
   "source": []
  }
 ],
 "metadata": {
  "kernelspec": {
   "display_name": "venv",
   "language": "python",
   "name": "python3"
  },
  "language_info": {
   "codemirror_mode": {
    "name": "ipython",
    "version": 3
   },
   "file_extension": ".py",
   "mimetype": "text/x-python",
   "name": "python",
   "nbconvert_exporter": "python",
   "pygments_lexer": "ipython3",
   "version": "3.10.10"
  },
  "orig_nbformat": 4
 },
 "nbformat": 4,
 "nbformat_minor": 2
}
