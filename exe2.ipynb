{
 "cells": [
  {
   "attachments": {},
   "cell_type": "markdown",
   "metadata": {},
   "source": [
    "# Introduction to Computer Programming\n",
    "### Disclaimer\n",
    "This is a repository with the code for a variety of algorithms. The code is written in Python and uses the following libraries:\n",
    "- math\n",
    "- random\n",
    "\n",
    "Use at your own risk. The code is not guaranteed to be correct or to work as intended. \n",
    "\n",
    "## Group 2 Exercises\n",
    "- author: Joao Ferreira\n",
    "- date: 2023-03-12\n",
    "- notebook: LEM_PC1/exe2.ipynb"
   ]
  },
  {
   "cell_type": "code",
   "execution_count": 36,
   "metadata": {},
   "outputs": [],
   "source": [
    "# import libraries\n",
    "import math\n",
    "import random"
   ]
  },
  {
   "attachments": {},
   "cell_type": "markdown",
   "metadata": {},
   "source": [
    "## 2 - Write functions to compute the following:\n",
    "- a - The sum of two vectors\n",
    "- b - The norm of a vector\n",
    "- c - The dot product of two vectors\n",
    "- d - The product of an vector by a scalar\n",
    "- extra - The cross product of two vectors\n"
   ]
  },
  {
   "cell_type": "code",
   "execution_count": 5,
   "metadata": {},
   "outputs": [
    {
     "name": "stdout",
     "output_type": "stream",
     "text": [
      "Sum of [1, 2, 3] and [4, 5, 6]: [5, 7, 9]\n",
      "Morm of [1, 2, 3]: 3.7416573867739413\n",
      "Dot product of [1, 2, 3] and [4, 5, 6]: 32\n",
      "Product of [1, 2, 3] by 2 [2, 4, 6]\n",
      "Angle between [1, 2, 3] and [4, 5, 6]: 0.2257261285527342\n",
      "Cross product between [1, 2, 3] and [4, 5, 6]: [-3, 6, -3]\n"
     ]
    }
   ],
   "source": [
    "# function to sum two vectors\n",
    "def sum_vectors(v1, v2):\n",
    "    v3 = [0]*len(v1)\n",
    "    for i in range(len(v1)):\n",
    "        v3[i] = v1[i] + v2[i]\n",
    "    return v3\n",
    "\n",
    "#function to calculate norm of a vector\n",
    "def norm(v):\n",
    "    sum = 0\n",
    "    for i in range(len(v)):\n",
    "        sum += v[i]**2\n",
    "    return math.sqrt(sum)\n",
    "\n",
    "#function to calculate dot product of two vectors\n",
    "def dot_product(v1, v2):\n",
    "    sum = 0\n",
    "    for i in range(len(v1)):\n",
    "        sum += v1[i]*v2[i]\n",
    "    return sum\n",
    "\n",
    "#function  to multiply a vector by a scalar\n",
    "def scalar_mult(scalar, v):\n",
    "    v2 = [0]*len(v)\n",
    "    for i in range(len(v)):\n",
    "        v2[i] = scalar*v[i]\n",
    "    return v2\n",
    "\n",
    "# EXTRA\n",
    "\n",
    "#function to calculate the angle between two vectors\n",
    "def angle(v1, v2):\n",
    "    return math.acos(dot_product(v1, v2)/(norm(v1)*norm(v2)))\n",
    "\n",
    "#function to calculte the cross product between two 3D vectors\n",
    "def cross_product(v1, v2):\n",
    "    v3 = [0]*3\n",
    "    v3[0] = v1[1]*v2[2] - v1[2]*v2[1]\n",
    "    v3[1] = v1[2]*v2[0] - v1[0]*v2[2]\n",
    "    v3[2] = v1[0]*v2[1] - v1[1]*v2[0]\n",
    "    return v3\n",
    "\n",
    "#test all functions\n",
    "v1 = [1, 2, 3]\n",
    "v2 = [4, 5, 6]\n",
    "v3 = sum_vectors(v1, v2)\n",
    "\n",
    "print(f\"Sum of {v1} and {v2}: {v3}\")\n",
    "print(f\"Morm of {v1}: {norm(v1)}\")\n",
    "print(f\"Dot product of {v1} and {v2}: {dot_product(v1, v2)}\")\n",
    "print(f\"Product of {v1} by 2 {scalar_mult(2, v1)}\")\n",
    "print(f\"Angle between {v1} and {v2}: {angle(v1, v2)}\")\n",
    "print(f\"Cross product between {v1} and {v2}: {cross_product(v1, v2)}\")\n"
   ]
  },
  {
   "attachments": {},
   "cell_type": "markdown",
   "metadata": {},
   "source": [
    "## 3 -  Calculate $\\lVert{\\left(AB\\right)C + kA}\\rVert$"
   ]
  },
  {
   "cell_type": "code",
   "execution_count": 7,
   "metadata": {},
   "outputs": [
    {
     "name": "stdout",
     "output_type": "stream",
     "text": [
      "Result: 452.89292332735783\n"
     ]
    }
   ],
   "source": [
    "#define vectors and scalar\n",
    "a = [1, 2, 3]\n",
    "b = [4, 5, 6]\n",
    "c = [7, 8, 9]\n",
    "k = 2\n",
    "\n",
    "#calculate the result of the operations\n",
    "scalar1 = dot_product(a, b)\n",
    "v1 = scalar_mult(scalar1, c)\n",
    "v2 = scalar_mult(k,a)\n",
    "v3 = sum_vectors(v1, v2)\n",
    "result = norm(v3)\n",
    "print(f\"Result: {result}\")\n"
   ]
  },
  {
   "attachments": {},
   "cell_type": "markdown",
   "metadata": {},
   "source": [
    "## 4 - Create a vector with the divisors of an integer"
   ]
  },
  {
   "cell_type": "code",
   "execution_count": 13,
   "metadata": {},
   "outputs": [
    {
     "name": "stdout",
     "output_type": "stream",
     "text": [
      "Divisors of 1000: [1, 2, 4, 5, 8, 10, 20, 25, 40, 50, 100, 125, 200, 250, 500, 1000]\n",
      "Divisors of 1000: [1, 2, 4, 5, 8, 10, 20, 25, 40, 50, 100, 125, 200, 250, 500, 1000]\n"
     ]
    }
   ],
   "source": [
    "# function to create a vector with the divisors of an integer. use append method or list comprehension\n",
    "def divisors(n):\n",
    "    div = []\n",
    "    # go from 1 to (n+1)//2 and check if n is divisible by i\n",
    "    for i in range(1, n//2 + 1):\n",
    "        if n%i == 0:\n",
    "            div.append(i)\n",
    "    # add n to the list\n",
    "    div.append(n)\n",
    "    return div\n",
    "\n",
    "# use list comprehension. sligtly more efficient\n",
    "def divisors2(n):\n",
    "    return [i for i in range(1, n//2 + 1) if n%i == 0] + [n]\n",
    "\n",
    "# test the functions. compute efficiency of both functions\n",
    "n = 1000\n",
    "print(f\"Divisors of {n}: {divisors(n)}\")\n",
    "print(f\"Divisors of {n}: {divisors2(n)}\")\n"
   ]
  },
  {
   "attachments": {},
   "cell_type": "markdown",
   "metadata": {},
   "source": [
    "## 5 - Calculate the Collatz sequence for a given integer"
   ]
  },
  {
   "cell_type": "code",
   "execution_count": 14,
   "metadata": {},
   "outputs": [
    {
     "name": "stdout",
     "output_type": "stream",
     "text": [
      "Collatz sequence of 100: [100, 50, 25, 76, 38, 19, 58, 29, 88, 44, 22, 11, 34, 17, 52, 26, 13, 40, 20, 10, 5, 16, 8, 4, 2, 1]\n"
     ]
    }
   ],
   "source": [
    "#function to calculate the Collatz sequence of a number. use append method\n",
    "def collatz(n):\n",
    "    seq = [n]\n",
    "    while n != 1:\n",
    "        if n%2 == 0:\n",
    "            n = n//2\n",
    "        else:\n",
    "            n = 3*n + 1\n",
    "        seq.append(n)\n",
    "    return seq\n",
    "\n",
    "#test the function\n",
    "n = 100\n",
    "print(f\"Collatz sequence of {n}: {collatz(n)}\")"
   ]
  },
  {
   "attachments": {},
   "cell_type": "markdown",
   "metadata": {},
   "source": [
    "## 6 - Calculate the calculate the geometric mean of a list of numbers in a vector"
   ]
  },
  {
   "cell_type": "code",
   "execution_count": 15,
   "metadata": {},
   "outputs": [
    {
     "name": "stdout",
     "output_type": "stream",
     "text": [
      "Geometric mean of [1, 2, 3, 4, 5]: 2.605171084697352\n"
     ]
    }
   ],
   "source": [
    "# function to calculate the geometric mean of a list of numbers in a vector\n",
    "def geo_mean(v):\n",
    "    prod = 1\n",
    "    for i in range(len(v)):\n",
    "        prod *= v[i]\n",
    "    return prod**(1/len(v))\n",
    "\n",
    "#test the function\n",
    "v = [1, 2, 3, 4, 5]\n",
    "print(f\"Geometric mean of {v}: {geo_mean(v)}\")"
   ]
  },
  {
   "attachments": {},
   "cell_type": "markdown",
   "metadata": {},
   "source": [
    "## 7 - Calculate the mean and standard deviation of a list of numbers in a vector"
   ]
  },
  {
   "cell_type": "code",
   "execution_count": 16,
   "metadata": {},
   "outputs": [
    {
     "name": "stdout",
     "output_type": "stream",
     "text": [
      "Mean of [1, 2, 3, 4, 5]: 3.0\n",
      "Standard deviation of [1, 2, 3, 4, 5]: 1.5811388300841898\n"
     ]
    }
   ],
   "source": [
    "# function to calculate the mean of a list of numbers in a vector\n",
    "def mean(v):\n",
    "    sum = 0\n",
    "    for i in range(len(v)):\n",
    "        sum += v[i]\n",
    "    return sum/len(v)\n",
    "\n",
    "# function to calculate the standard deviation of a list of numbers in a vector. use the mean function\n",
    "def std_dev(v):\n",
    "    m = mean(v)\n",
    "    sum = 0\n",
    "    for i in range(len(v)):\n",
    "        sum += (v[i] - m)**2\n",
    "    return math.sqrt(sum/(len(v)-1))\n",
    "\n",
    "# test the functions\n",
    "v = [1, 2, 3, 4, 5]\n",
    "print(f\"Mean of {v}: {mean(v)}\")\n",
    "print(f\"Standard deviation of {v}: {std_dev(v)}\")\n"
   ]
  },
  {
   "attachments": {},
   "cell_type": "markdown",
   "metadata": {},
   "source": [
    "## 8 - Find the maximum and its position in a vector"
   ]
  },
  {
   "cell_type": "code",
   "execution_count": 20,
   "metadata": {},
   "outputs": [
    {
     "name": "stdout",
     "output_type": "stream",
     "text": [
      "Maximum and its position of [1, 2, 3, 4, 5, 3, 5, 6, 7, 8, 9, 10, 11, 12, 13, 14, 15]: (15, 16)\n"
     ]
    }
   ],
   "source": [
    "# function to find the maximum and its position in a vector\n",
    "def max_vector(v):\n",
    "    m = v[0]\n",
    "    pos = 0\n",
    "    for i in range(len(v)):\n",
    "        if v[i] > m: # takes the last position if there are more than one maximum\n",
    "            m = v[i]\n",
    "            pos = i\n",
    "    return m, pos\n",
    "\n",
    "# test the function\n",
    "v = [1, 2, 3, 4, 5, 3, 5 , 6, 7, 8, 9, 10, 11, 12, 13, 14, 15]\n",
    "print(f\"Maximum and its position of {v}: {max_vector(v)}\")"
   ]
  },
  {
   "attachments": {},
   "cell_type": "markdown",
   "metadata": {},
   "source": [
    "## 9 - Swap the maximum and minimum values in a vector"
   ]
  },
  {
   "cell_type": "code",
   "execution_count": 24,
   "metadata": {},
   "outputs": [
    {
     "name": "stdout",
     "output_type": "stream",
     "text": [
      "Vector with swapped maximum and minimum values of [1, 2, 3, 4, 5]: [5, 2, 3, 4, 1]\n"
     ]
    }
   ],
   "source": [
    "# function to Swap the maximum and minimum values in a vector. do not use other unctions\n",
    "def swap_max_min(v):\n",
    "    m = v[0]\n",
    "    pos_m = 0\n",
    "    M = v[0]\n",
    "    pos_M = 0\n",
    "    for i in range(len(v)):\n",
    "        if v[i] > M:\n",
    "            M = v[i]\n",
    "            pos_M = i\n",
    "        if v[i] < m:\n",
    "            m = v[i]\n",
    "            pos_m = i\n",
    "    v[pos_M] = m\n",
    "    v[pos_m] = M\n",
    "    return v\n",
    "\n",
    "# test the function\n",
    "v = [1, 2, 3, 4, 5]\n",
    "print(f\"Vector with swapped maximum and minimum values of {v}: {swap_max_min(v)}\")"
   ]
  },
  {
   "attachments": {},
   "cell_type": "markdown",
   "metadata": {},
   "source": [
    "## 10 - Find the odd indices elements of a vector with another vector"
   ]
  },
  {
   "cell_type": "code",
   "execution_count": 26,
   "metadata": {},
   "outputs": [
    {
     "name": "stdout",
     "output_type": "stream",
     "text": [
      "Vectors with swapped odd indices of [1, 2, 3, 4, 5] and [6, 7, 8, 9, 10, 11, 12, 13, 14, 15]: ([6, 2, 8, 4, 10], [1, 7, 3, 9, 5, 11, 12, 13, 14, 15])\n"
     ]
    }
   ],
   "source": [
    "#function to find the even indices elements of a vector with another vector\n",
    "def swap_odd_indices(x,y):\n",
    "    # check smallest vector\n",
    "    if len(x) < len(y):\n",
    "        n = len(x)\n",
    "    else:\n",
    "        n = len(y)\n",
    "    for i in range(0, n, 2):\n",
    "        aux = x[i]\n",
    "        x[i] = y[i]\n",
    "        y[i] = aux\n",
    "        # or x[i], y[i] = y[i], x[i]\n",
    "    return x, y\n",
    "\n",
    "# test the function\n",
    "x = [1, 2, 3, 4, 5]\n",
    "y = [6, 7, 8, 9, 10, 11, 12, 13, 14, 15]\n",
    "print(f\"Vectors with swapped odd indices of {x} and {y}: {swap_odd_indices(x, y)}\")"
   ]
  },
  {
   "attachments": {},
   "cell_type": "markdown",
   "metadata": {},
   "source": [
    "## 11 - Count the number of elements in a vector that are multiples of k"
   ]
  },
  {
   "cell_type": "code",
   "execution_count": 27,
   "metadata": {},
   "outputs": [
    {
     "name": "stdout",
     "output_type": "stream",
     "text": [
      "Number of elements in [1, 2, 3, 4, 5, 6, 7, 8, 9, 10] that are multiples of 3: 3\n"
     ]
    }
   ],
   "source": [
    "# function to count the number of elements in a vector that are multiples of k\n",
    "def count_multiples(v, k):\n",
    "    count = 0\n",
    "    for i in range(len(v)):\n",
    "        if v[i]%k == 0:\n",
    "            count += 1\n",
    "    return count\n",
    "\n",
    "# test the function\n",
    "v = [1, 2, 3, 4, 5, 6, 7, 8, 9, 10]\n",
    "k = 3\n",
    "print(f\"Number of elements in {v} that are multiples of {k}: {count_multiples(v, k)}\")"
   ]
  },
  {
   "attachments": {},
   "cell_type": "markdown",
   "metadata": {},
   "source": [
    "## 12 - Find the elements of a vector that are multiples of k"
   ]
  },
  {
   "cell_type": "code",
   "execution_count": 28,
   "metadata": {},
   "outputs": [
    {
     "name": "stdout",
     "output_type": "stream",
     "text": [
      "Elements in [1, 2, 3, 4, 5, 6, 7, 8, 9, 10] that are multiples of 3: [3, 6, 9]\n"
     ]
    }
   ],
   "source": [
    "# function to Find the elements of a vector that are multiples of k. use count_multiples function and append method\n",
    "def find_multiples(v, k):\n",
    "    mult = []\n",
    "    for i in range(len(v)):\n",
    "        if v[i]%k == 0:\n",
    "            mult.append(v[i])\n",
    "    return mult\n",
    "\n",
    "# test the function\n",
    "v = [1, 2, 3, 4, 5, 6, 7, 8, 9, 10]\n",
    "k = 3\n",
    "print(f\"Elements in {v} that are multiples of {k}: {find_multiples(v, k)}\")"
   ]
  },
  {
   "attachments": {},
   "cell_type": "markdown",
   "metadata": {},
   "source": [
    "## 13 - Check which components of a vector are primes"
   ]
  },
  {
   "cell_type": "code",
   "execution_count": 29,
   "metadata": {},
   "outputs": [
    {
     "name": "stdout",
     "output_type": "stream",
     "text": [
      "Prime numbers in [1, 2, 3, 4, 5, 6, 7, 8, 9, 10, 20, 21, 100, 101, 103]: [2, 3, 5, 7, 101, 103]\n"
     ]
    }
   ],
   "source": [
    "## function to check if an integer is prime\n",
    "def is_prime(n):\n",
    "    if n == 1:\n",
    "        return False\n",
    "    # check up to sqrt(n)\n",
    "    for i in range(2, int(math.sqrt(n)) + 1):\n",
    "        if n%i == 0:\n",
    "            return False\n",
    "    # if no divisor found, n is prime\n",
    "    return True\n",
    "\n",
    "## function to find the prime numbers in a vector\n",
    "def find_primes(v):\n",
    "    primes = []\n",
    "    for i in range(len(v)):\n",
    "        if is_prime(v[i]):\n",
    "            primes.append(v[i])\n",
    "    return primes\n",
    "\n",
    "# test the functions\n",
    "v = [1, 2, 3, 4, 5, 6, 7, 8, 9, 10, 20, 21, 100, 101, 103]\n",
    "print(f\"Prime numbers in {v}: {find_primes(v)}\")\n"
   ]
  },
  {
   "attachments": {},
   "cell_type": "markdown",
   "metadata": {},
   "source": [
    "## 14 - Create a function to generate a random vector of n integers between a and b. Verify that their mean is close to (a+b)/2"
   ]
  },
  {
   "cell_type": "code",
   "execution_count": 40,
   "metadata": {},
   "outputs": [
    {
     "name": "stdout",
     "output_type": "stream",
     "text": [
      "(a+b)/2 = (1+100)/2 =  50.5)\n",
      "Mean of random vector with 10 elements between 1 and 100: 55.2\n",
      "Mean of random vector with 1000 elements between 1 and 100: 51.281\n",
      "Mean of random vector with 100000 elements between 1 and 100: 50.72122\n"
     ]
    }
   ],
   "source": [
    "## function to create a function to generate a random vector of n integers between a and b.\n",
    "def random_vector(a, b, n):\n",
    "    v = []\n",
    "    for i in range(n):\n",
    "        v.append(random.randint(a, b))\n",
    "    return v\n",
    "\n",
    "# function to calculate the mean of a list of numbers in a vector\n",
    "def mean_vector(v):\n",
    "    sum = 0\n",
    "    for i in range(len(v)):\n",
    "        sum += v[i]\n",
    "    return sum/len(v)\n",
    "\n",
    "# test the function\n",
    "a = 1\n",
    "b = 100\n",
    "#Verify that their mean is close to (a+b)/2 when n is large\n",
    "print(f\"(a+b)/2 = ({a}+{b})/2 =  {(a+b)/2})\")\n",
    "n = 10\n",
    "print(f\"Mean of random vector with {n} elements between {a} and {b}: {mean_vector(random_vector(a, b, n))}\")\n",
    "n = 1000\n",
    "print(f\"Mean of random vector with {n} elements between {a} and {b}: {mean_vector(random_vector(a, b, n))}\")\n",
    "n = 100000\n",
    "print(f\"Mean of random vector with {n} elements between {a} and {b}: {mean_vector(random_vector(a, b, n))}\")\n",
    "\n",
    "\n"
   ]
  },
  {
   "attachments": {},
   "cell_type": "markdown",
   "metadata": {},
   "source": [
    "## 15 - Invert the order of the elements of a vector"
   ]
  },
  {
   "cell_type": "code",
   "execution_count": 41,
   "metadata": {},
   "outputs": [
    {
     "name": "stdout",
     "output_type": "stream",
     "text": [
      "Inverted vector of [1, 2, 3, 4, 5, 6, 7, 8, 9, 10]: [10, 9, 8, 7, 6, 5, 4, 3, 2, 1]\n"
     ]
    }
   ],
   "source": [
    "#function to invert a vector\n",
    "def invert_vector(v):\n",
    "    for i in range(len(v)//2):\n",
    "        aux = v[i]\n",
    "        v[i] = v[len(v)-1-i]\n",
    "        v[len(v)-1-i] = aux\n",
    "    return v\n",
    "\n",
    "# test the function\n",
    "v = [1, 2, 3, 4, 5, 6, 7, 8, 9, 10]\n",
    "print(f'Inverted vector of {v}: {invert_vector(v)}')"
   ]
  },
  {
   "attachments": {},
   "cell_type": "markdown",
   "metadata": {},
   "source": [
    "## 16 - Order the elements of a vector: first the negatives, then the positives. keep the order of the elements"
   ]
  },
  {
   "cell_type": "code",
   "execution_count": 53,
   "metadata": {},
   "outputs": [
    {
     "name": "stdout",
     "output_type": "stream",
     "text": [
      "Ordered vector of [1, -2, 3, -4, 5, -10, 7, -8, 9, -6]: [-2, -4, -10, -8, -6, 1, 3, 5, 7, 9]\n"
     ]
    }
   ],
   "source": [
    "#function to order the elements of a vector: first the negatives, then the positives. keep the original order negatives and positives\n",
    "def order_vector_neg_pos(v):\n",
    "    neg = []\n",
    "    pos = []\n",
    "    for i in range(len(v)):\n",
    "        if v[i] < 0:\n",
    "            neg.append(v[i])\n",
    "        else:\n",
    "            pos.append(v[i])\n",
    "    return neg + pos\n",
    "\n",
    "#test the function\n",
    "v = [1, -2, 3, -4, 5, -10, 7, -8, 9, -6]\n",
    "print(f'Ordered vector of {v}: {order_vector_neg_pos(v)}')"
   ]
  },
  {
   "attachments": {},
   "cell_type": "markdown",
   "metadata": {},
   "source": [
    "## 17 - Remove the duplicates from a vector"
   ]
  },
  {
   "cell_type": "code",
   "execution_count": 1,
   "metadata": {},
   "outputs": [
    {
     "name": "stdout",
     "output_type": "stream",
     "text": [
      "Vector with duplicates removed using pop method: [1, 2, 3, 4, 5, 6, 7, 8, 10, 9]\n",
      "Vector with duplicates removed using set method: [1, 2, 3, 4, 5, 6, 7, 8, 9, 10]\n",
      "Vector with duplicates removed using auxiliary vector method: [1, 2, 3, 4, 5, 6, 7, 8, 10, 9]\n",
      "Vector with duplicates removed using algorithm method: [1, 2, 3, 4, 5, 6, 7, 8, 10, 9]\n",
      "Vector with duplicates removed using algorithm method: [1, 2, 3, 4, 5, 6, 7, 8, 10, 9]\n"
     ]
    }
   ],
   "source": [
    "# function to remove the duplicates from a vector. \n",
    "# do not use auxiliary vector. use pop method\n",
    "def remove_duplicates_pop(v):\n",
    "    for i in range(len(v)-1, 0, -1):\n",
    "        if v[i] in v[:i]:\n",
    "            v.pop(i)\n",
    "    return v\n",
    "\n",
    "# use set method\n",
    "def remove_duplicates_set(v):\n",
    "    v = list(set(v))\n",
    "    return v\n",
    "\n",
    "# use auxiliary vector\n",
    "def remove_duplicates_aux(v):\n",
    "    aux = []\n",
    "    for i in range(len(v)):\n",
    "        if v[i] not in aux:\n",
    "            aux.append(v[i])\n",
    "    return aux\n",
    "\n",
    "# use algorithm way\n",
    "def remove_duplicates_algo(v):\n",
    "    for i in range(len(v)-1, 0, -1):\n",
    "        for j in range(i):\n",
    "            if v[i] == v[j]:\n",
    "                v.pop(i)\n",
    "                break\n",
    "    return v\n",
    "\n",
    "def remove_duplicates(vector):\n",
    "    if len(vector) <= 1:\n",
    "        return vector\n",
    "\n",
    "    last_index = 0\n",
    "\n",
    "    for i in range(1, len(vector)):\n",
    "        is_repeated = False\n",
    "        j = 0\n",
    "\n",
    "        while j <= last_index and not is_repeated:\n",
    "            if vector[i] == vector[j]:\n",
    "                is_repeated = True\n",
    "            j += 1\n",
    "\n",
    "        if not is_repeated:\n",
    "            last_index += 1\n",
    "            vector[last_index] = vector[i]\n",
    "\n",
    "    # Remove elements after last_index\n",
    "    vector = vector[:last_index + 1]\n",
    "    return vector\n",
    "    \n",
    "\n",
    "# test the functions\n",
    "v = [1, 2, 3, 4, 5, 6, 7, 8, 10, 10, 1, 2, 3, 4, 8, 5, 6, 7, 8, 9, 10]\n",
    "# copy original vector. do not modify original vector\n",
    "v0 = v.copy()\n",
    "print(f'Vector with duplicates removed using pop method: {remove_duplicates_pop(v0)}')\n",
    "v0 = v.copy()\n",
    "print(f'Vector with duplicates removed using set method: {remove_duplicates_set(v0)}')\n",
    "v0 = v.copy()\n",
    "print(f'Vector with duplicates removed using auxiliary vector method: {remove_duplicates_aux(v)}')\n",
    "v0 = v.copy()\n",
    "print(f'Vector with duplicates removed using algorithm method with pop: {remove_duplicates_algo(v)}')\n",
    "v0 = v.copy()\n",
    "print(f'Vector with duplicates removed using algorithm method: {remove_duplicates(v)}')"
   ]
  },
  {
   "cell_type": "markdown",
   "metadata": {},
   "source": [
    "## 18 - Create a vector with non repeated elements of a vector"
   ]
  },
  {
   "cell_type": "code",
   "execution_count": 4,
   "metadata": {},
   "outputs": [
    {
     "name": "stdout",
     "output_type": "stream",
     "text": [
      "Vector with duplicates removed: [1, 2, 3, 4, 5, 6, 7, 8, 10, 9]\n"
     ]
    }
   ],
   "source": [
    "def remove_duplicates(vector):\n",
    "    result = []\n",
    "    result.append(vector[0])\n",
    "    for i in range(1, len(vector)):\n",
    "        elem = vector[i]\n",
    "        j = 0\n",
    "        is_repeated = False\n",
    "        while j < len(result) and not is_repeated:\n",
    "            if elem == result[j]:\n",
    "                is_repeated = True\n",
    "            j += 1\n",
    "        if not is_repeated:\n",
    "            result.append(elem)\n",
    "    return result\n",
    "\n",
    "# test the function\n",
    "v = [1, 2, 3, 4, 5, 6, 7, 8, 10, 10, 1, 2, 3, 4, 8, 5, 6, 7, 8, 9, 10]\n",
    "print(f'Orignal vector: {v}')\n",
    "# copy original vector. do not modify original vector\n",
    "v0 = v.copy()\n",
    "print(f'Vector with duplicates removed using algorithm method: {remove_duplicates(v0)}')"
   ]
  },
  {
   "attachments": {},
   "cell_type": "markdown",
   "metadata": {},
   "source": [
    "## 19 - Determine first k occurences of a scalar in a vector"
   ]
  },
  {
   "cell_type": "code",
   "execution_count": 70,
   "metadata": {},
   "outputs": [
    {
     "name": "stdout",
     "output_type": "stream",
     "text": [
      "First 4 occurences of 10 in [1, 2, 3, 4, 5, 6, 7, 8, 9, 10, 10, 1, 2, 3, 4, 8, 5, 6, 7, 8, 9, 10]:\n",
      " indexes: [9, 10, 21]\n",
      " occurences: [10, 10, 10]\n"
     ]
    }
   ],
   "source": [
    "# function to determine first k occurences of a scalar in a vector. use while\n",
    "def find_k_occurences(v, k, scalar):\n",
    "    i = 0\n",
    "    count = 0\n",
    "    occ = []\n",
    "    idx = []\n",
    "    while i < len(v) and count < k:\n",
    "        if v[i] == scalar:\n",
    "            count += 1\n",
    "            occ.append(v[i])\n",
    "            idx.append(i)\n",
    "        i += 1\n",
    "    return idx, occ\n",
    "\n",
    "# test the function\n",
    "v = [1, 2, 3, 4, 5, 6, 7, 8, 9, 10, 10, 1, 2, 3, 4, 8, 5, 6, 7, 8, 9, 10]\n",
    "k = 4\n",
    "scalar = 10\n",
    "indexes, occurences = find_k_occurences(v, k, scalar)\n",
    "print(f'First {k} occurences of {scalar} in {v}:\\n indexes: {indexes}\\n occurences: {occurences}')"
   ]
  },
  {
   "attachments": {},
   "cell_type": "markdown",
   "metadata": {},
   "source": [
    "## 21 - Create a vector with the common elements of two vectors"
   ]
  },
  {
   "cell_type": "code",
   "execution_count": 73,
   "metadata": {},
   "outputs": [
    {
     "name": "stdout",
     "output_type": "stream",
     "text": [
      "Common elements of [1, 2, 8, 9, 10, 10, 1, 2, 7, 8, 9, 10] and [1, 2, 3, 4, 5, 6, 10]: [1, 2, 10, 10, 1, 2, 10]\n"
     ]
    }
   ],
   "source": [
    "## function to create a vector with the common elements of two vectors\n",
    "def common_elements(v1, v2):\n",
    "    v = []\n",
    "    for i in range(len(v1)):\n",
    "        if v1[i] in v2 and v1[i]:\n",
    "            v.append(v1[i])\n",
    "    return v\n",
    "\n",
    "# test the function\n",
    "v1 = [1, 2, 8, 9, 10, 10, 1, 2, 7, 8, 9, 10]\n",
    "v2 = [1, 2, 3, 4, 5, 6, 10]\n",
    "print(f'Common elements of {v1} and {v2}: {common_elements(v1, v2)}')"
   ]
  },
  {
   "attachments": {},
   "cell_type": "markdown",
   "metadata": {},
   "source": [
    "## 22 - Create a vector with the common elements of two vectors. no repetitions"
   ]
  },
  {
   "cell_type": "code",
   "execution_count": 74,
   "metadata": {},
   "outputs": [
    {
     "name": "stdout",
     "output_type": "stream",
     "text": [
      "Common elements of [1, 2, 8, 9, 10, 10, 1, 2, 7, 8, 9, 10] and [1, 2, 3, 4, 5, 6, 10]: [1, 2, 10]\n"
     ]
    }
   ],
   "source": [
    "def common_elements(v1, v2):\n",
    "    v = []\n",
    "    for i in range(len(v1)):\n",
    "        if v1[i] in v2 and v1[i] not in v:\n",
    "            v.append(v1[i])\n",
    "    return v\n",
    "\n",
    "# test the function\n",
    "v1 = [1, 2, 8, 9, 10, 10, 1, 2, 7, 8, 9, 10]\n",
    "v2 = [1, 2, 3, 4, 5, 6, 10]\n",
    "print(f'Common elements of {v1} and {v2}: {common_elements(v1, v2)}')\n"
   ]
  },
  {
   "cell_type": "code",
   "execution_count": null,
   "metadata": {},
   "outputs": [],
   "source": []
  }
 ],
 "metadata": {
  "kernelspec": {
   "display_name": "venv",
   "language": "python",
   "name": "python3"
  },
  "language_info": {
   "codemirror_mode": {
    "name": "ipython",
    "version": 3
   },
   "file_extension": ".py",
   "mimetype": "text/x-python",
   "name": "python",
   "nbconvert_exporter": "python",
   "pygments_lexer": "ipython3",
   "version": "3.11.2"
  },
  "orig_nbformat": 4
 },
 "nbformat": 4,
 "nbformat_minor": 2
}
