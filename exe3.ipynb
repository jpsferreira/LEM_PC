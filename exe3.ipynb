{
 "cells": [
  {
   "attachments": {},
   "cell_type": "markdown",
   "metadata": {},
   "source": [
    "# Introduction to Computer Programming\n",
    "### Disclaimer\n",
    "This is a repository with the code for a variety of algorithms. The code is written in Python and uses the following libraries:\n",
    "- math\n",
    "- random\n",
    "\n",
    "Use at your own risk. The code is not guaranteed to be correct or to work as intended. \n",
    "\n",
    "## Group 2\n",
    "- author: Joao Ferreira\n",
    "- date: 2023-03-23\n",
    "- notebook: LEM_PC1/exe2.ipynb"
   ]
  },
  {
   "cell_type": "code",
   "execution_count": 1,
   "metadata": {},
   "outputs": [],
   "source": [
    "# import libraries\n",
    "import math\n",
    "import random"
   ]
  },
  {
   "attachments": {},
   "cell_type": "markdown",
   "metadata": {},
   "source": [
    "## 1 - Multiply a matrix by an scalar"
   ]
  },
  {
   "cell_type": "code",
   "execution_count": 2,
   "metadata": {},
   "outputs": [
    {
     "name": "stdout",
     "output_type": "stream",
     "text": [
      "matrix = [[1, 2, 3], [4, 5, 6], [7, 8, 9]]\n",
      "\n",
      "scalar = 2\n",
      "\n",
      "scalar_mult(scalar, matrix) = [[2, 4, 6], [8, 10, 12], [14, 16, 18]]\n",
      "\n",
      "scalar_mult0(scalar, matrix) = [[2, 4, 6], [8, 10, 12], [14, 16, 18]]\n",
      "\n",
      "scalar_mult1(scalar, matrix) = [[4, 8, 12], [16, 20, 24], [28, 32, 36]]\n",
      "\n"
     ]
    }
   ],
   "source": [
    "# function to multiple a matrix by an scalar\n",
    "\n",
    "# use for loop and index\n",
    "def scalar_mult(scalar, matrix):\n",
    "    for row in range(len(matrix)):\n",
    "        for col in range(len(matrix[row])):\n",
    "            matrix[row][col] = scalar * matrix[row][col]\n",
    "    return matrix\n",
    "\n",
    "# use for loop. no index\n",
    "def scalar_mult0(scalar, matrix):\n",
    "    for row in matrix:\n",
    "        for col in row:\n",
    "            col = scalar * col\n",
    "    return matrix\n",
    "\n",
    "# use list comprehension\n",
    "def scalar_mult1(scalar, matrix):\n",
    "    return [[scalar * element for element in row] for row in matrix]\n",
    "\n",
    "# test functions\n",
    "matrix = [[1, 2, 3], [4, 5, 6], [7, 8, 9]]\n",
    "scalar = 2\n",
    "print(f\"matrix = {matrix}\\n\")\n",
    "print(f\"scalar = {scalar}\\n\")\n",
    "print(f\"scalar_mult(scalar, matrix) = {scalar_mult(scalar, matrix)}\\n\")\n",
    "print(f\"scalar_mult0(scalar, matrix) = {scalar_mult0(scalar, matrix)}\\n\")\n",
    "print(f\"scalar_mult1(scalar, matrix) = {scalar_mult1(scalar, matrix)}\\n\")\n"
   ]
  },
  {
   "attachments": {},
   "cell_type": "markdown",
   "metadata": {},
   "source": [
    "## 2 - Multiply the diagonal and non-diagonal elements of a matrix"
   ]
  },
  {
   "cell_type": "code",
   "execution_count": 4,
   "metadata": {},
   "outputs": [
    {
     "name": "stdout",
     "output_type": "stream",
     "text": [
      "matrix = [[1, 2, 3], [4, 5, 6], [7, 8, 9]]\n",
      "\n",
      "diag_mult(matrix) = 45\n",
      "\n",
      "non_diag_mult(matrix) = 105\n",
      "\n",
      "matrix = [[1, 2, 3], [4, 5, 6]]\n",
      "\n",
      "diag_mult(matrix) = matrix is not square\n",
      "\n",
      "non_diag_mult(matrix) = matrix is not square\n",
      "\n"
     ]
    }
   ],
   "source": [
    "# function to multiply the diagonal elements of a matrix\n",
    "def diag_mult(matrix):\n",
    "   # check if matrix is square\n",
    "    if len(matrix) != len(matrix[0]):\n",
    "        return \"matrix is not square\"\n",
    "    \n",
    "    # multiply diagonal elements\n",
    "    d = 1\n",
    "    for i in range(len(matrix)):\n",
    "        d *= matrix[i][i]\n",
    "    return d\n",
    "\n",
    "\n",
    "# function to multiply the non-diagonal elements of a matrix\n",
    "def non_diag_mult(matrix):\n",
    "    # check if matrix is square\n",
    "     if len(matrix) != len(matrix[0]):\n",
    "        return \"matrix is not square\"\n",
    "     \n",
    "     # multiply non-diagonal elements\n",
    "     d = 1\n",
    "     for i in range(len(matrix)):\n",
    "          d *= matrix[i][len(matrix) - i - 1 ]\n",
    "     return d\n",
    "\n",
    "# test functions\n",
    "# square matrix\n",
    "matrix = [[1, 2, 3], [4, 5, 6], [7, 8, 9]]\n",
    "print(f\"matrix = {matrix}\\n\")\n",
    "print(f\"diag_mult(matrix) = {diag_mult(matrix)}\\n\")\n",
    "print(f\"non_diag_mult(matrix) = {non_diag_mult(matrix)}\\n\")\n",
    "\n",
    "# non-square matrix\n",
    "matrix = [[1, 2, 3], [4, 5, 6]]\n",
    "print(f\"matrix = {matrix}\\n\")\n",
    "print(f\"diag_mult(matrix) = {diag_mult(matrix)}\\n\")\n",
    "print(f\"non_diag_mult(matrix) = {non_diag_mult(matrix)}\")"
   ]
  },
  {
   "attachments": {},
   "cell_type": "markdown",
   "metadata": {},
   "source": [
    "## 3 - Create a triangular matrix given two scalars and matrix dimension"
   ]
  },
  {
   "cell_type": "code",
   "execution_count": 20,
   "metadata": {},
   "outputs": [
    {
     "name": "stdout",
     "output_type": "stream",
     "text": [
      "[1, 2, 2, 2]\n",
      "[0, 1, 2, 2]\n",
      "[0, 0, 1, 2]\n",
      "[0, 0, 0, 1]\n"
     ]
    }
   ],
   "source": [
    "# function to create a triangular matrix given two scalars and matrix dimension.\n",
    "# scalar1 is the value of the diagonal elements\n",
    "# scalar2 is the value of the non-diagonal elements\n",
    "def triangular_matrix(scalar1, scalar2, dim):\n",
    "    m = [[0 for i in range(dim)] for j in range(dim)]\n",
    "    for i in range(dim):\n",
    "        for j in range(dim):\n",
    "            if i == j:\n",
    "                m[i][j] = scalar1\n",
    "            elif j > i:\n",
    "                m[i][j] = scalar2\n",
    "    return m\n",
    "\n",
    "# test function\n",
    "tmatrix = triangular_matrix(1, 2, 4)\n",
    "for row in tmatrix:\n",
    "    print(row)\n"
   ]
  },
  {
   "attachments": {},
   "cell_type": "markdown",
   "metadata": {},
   "source": [
    "## 4 - Detect extreme (maximum and minimum) values in a matrix and respective positions"
   ]
  },
  {
   "cell_type": "code",
   "execution_count": 22,
   "metadata": {},
   "outputs": [
    {
     "name": "stdout",
     "output_type": "stream",
     "text": [
      "matrix = [[1, 2, 3], [4, 5, 6], [7, 8, 9]]\n",
      "\n",
      "max_value_matrix(matrix) = 9, row = 2, col = 2\n",
      "\n",
      "min_value_matrix(matrix) = 1, row = 0, col = 0\n",
      "\n"
     ]
    }
   ],
   "source": [
    "## function to detect maximum value in a matrix and respective position\n",
    "def max_value_matrix(matrix):\n",
    "    max = matrix[0][0]\n",
    "    row = 0\n",
    "    col = 0\n",
    "    for i in range(len(matrix)):\n",
    "        for j in range(len(matrix[i])):\n",
    "            if matrix[i][j] > max:\n",
    "                max = matrix[i][j]\n",
    "                row = i\n",
    "                col = j\n",
    "    return max, row, col\n",
    "\n",
    "## function to detect minimum value in a matrix and respective position\n",
    "def min_value_matrix(matrix):\n",
    "    min = matrix[0][0]\n",
    "    row = 0\n",
    "    col = 0\n",
    "    for i in range(len(matrix)):\n",
    "        for j in range(len(matrix[i])):\n",
    "            if matrix[i][j] < min:\n",
    "                min = matrix[i][j]\n",
    "                row = i\n",
    "                col = j\n",
    "    return min, row, col\n",
    "\n",
    "# test functions\n",
    "matrix = [[1, 2, 3], [4, 5, 6], [7, 8, 9]]\n",
    "print(f\"matrix = {matrix}\\n\")\n",
    "maximum, row_max, col_max = max_value_matrix(matrix)\n",
    "print(f\"max_value_matrix(matrix) = {maximum}, row = {row_max}, col = {col_max}\\n\")\n",
    "minimum, row_min, col_min = min_value_matrix(matrix)\n",
    "print(f\"min_value_matrix(matrix) = {minimum}, row = {row_min}, col = {col_min}\\n\")\n"
   ]
  },
  {
   "attachments": {},
   "cell_type": "markdown",
   "metadata": {},
   "source": [
    "## 5 - Sum two matrices"
   ]
  },
  {
   "cell_type": "code",
   "execution_count": 25,
   "metadata": {},
   "outputs": [
    {
     "name": "stdout",
     "output_type": "stream",
     "text": [
      "matrix1 = [[1, 2, 3], [4, 5, 6], [7, 8, 9]]\n",
      "\n",
      "matrix2 = [[1, 2, 3], [4, 5, 6], [7, 8, 9]]\n",
      "\n",
      "matrix_sum(matrix1, matrix2) = [[2, 4, 6], [8, 10, 12], [14, 16, 18]]\n",
      "\n",
      "matrix_sum0(matrix1, matrix2) = [[2, 4, 6], [8, 10, 12], [14, 16, 18]]\n",
      "\n"
     ]
    }
   ],
   "source": [
    "## function to sum two matrices\n",
    "def matrix_sum(matrix1, matrix2):\n",
    "    # check if matrix are of the same size\n",
    "    if len(matrix1) != len(matrix2) or len(matrix1[0]) != len(matrix2[0]):\n",
    "        return \"matrices are not of the same size\"\n",
    "    \n",
    "    # sum matrices\n",
    "    matrix_sum = [[0 for i in range(len(matrix1[0]))] for j in range(len(matrix1))]\n",
    "    for i in range(len(matrix1)):\n",
    "        for j in range(len(matrix1[i])):\n",
    "            matrix_sum[i][j] = matrix1[i][j] + matrix2[i][j]\n",
    "    return matrix_sum\n",
    "\n",
    "# function to sum two matrices. compact version\n",
    "def matrix_sum0(matrix1, matrix2):\n",
    "    # check if matrix are of the same size\n",
    "    if len(matrix1) != len(matrix2) or len(matrix1[0]) != len(matrix2[0]):\n",
    "        return \"matrices are not of the same size\"\n",
    "    \n",
    "    # sum matrices\n",
    "    return [[matrix1[i][j] + matrix2[i][j] for j in range(len(matrix1[i]))] for i in range(len(matrix1))]\n",
    "\n",
    "# test functions\n",
    "matrix1 = [[1, 2, 3], [4, 5, 6], [7, 8, 9]]\n",
    "matrix2 = [[1, 2, 3], [4, 5, 6], [7, 8, 9]]\n",
    "print(f\"matrix1 = {matrix1}\\n\")\n",
    "print(f\"matrix2 = {matrix2}\\n\")\n",
    "print(f\"matrix_sum(matrix1, matrix2) = {matrix_sum(matrix1, matrix2)}\\n\")\n",
    "print(f\"matrix_sum0(matrix1, matrix2) = {matrix_sum0(matrix1, matrix2)}\\n\")\n"
   ]
  },
  {
   "attachments": {},
   "cell_type": "markdown",
   "metadata": {},
   "source": [
    "## 6 - Apply a linear transformation to a matrix."
   ]
  },
  {
   "cell_type": "code",
   "execution_count": 26,
   "metadata": {},
   "outputs": [
    {
     "name": "stdout",
     "output_type": "stream",
     "text": [
      "matrix = [[1, 2, 3], [4, 5, 6], [7, 8, 9]]\n",
      "\n",
      "vector = [1, 2, 3]\n",
      "\n",
      "linear transformation = [14, 32, 50]\n",
      "\n"
     ]
    }
   ],
   "source": [
    "## function to apply a linear transformation to a matrix. multiple matrix by vector\n",
    "def linear_transformation(matrix, vector):\n",
    "    # check if matrix and vector are compatible\n",
    "    if len(matrix[0]) != len(vector):\n",
    "        return \"matrix and vector are not compatible\"\n",
    "    \n",
    "    # apply linear transformation\n",
    "    vector_result = [0 for i in range(len(matrix))]\n",
    "    for i in range(len(matrix)):\n",
    "        for j in range(len(matrix[i])):\n",
    "            vector_result[i] += matrix[i][j] * vector[j]\n",
    "    return vector_result\n",
    "\n",
    "# test function\n",
    "matrix = [[1, 2, 3], [4, 5, 6], [7, 8, 9]]\n",
    "vector = [1, 2, 3]\n",
    "print(f\"matrix = {matrix}\\n\")\n",
    "print(f\"vector = {vector}\\n\")\n",
    "print(f\"linear transformation = {linear_transformation(matrix, vector)}\\n\")\n"
   ]
  },
  {
   "cell_type": "code",
   "execution_count": null,
   "metadata": {},
   "outputs": [],
   "source": []
  }
 ],
 "metadata": {
  "kernelspec": {
   "display_name": "venv",
   "language": "python",
   "name": "python3"
  },
  "language_info": {
   "codemirror_mode": {
    "name": "ipython",
    "version": 3
   },
   "file_extension": ".py",
   "mimetype": "text/x-python",
   "name": "python",
   "nbconvert_exporter": "python",
   "pygments_lexer": "ipython3",
   "version": "3.10.10"
  },
  "orig_nbformat": 4
 },
 "nbformat": 4,
 "nbformat_minor": 2
}
