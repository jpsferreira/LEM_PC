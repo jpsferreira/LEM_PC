{
 "cells": [
  {
   "attachments": {},
   "cell_type": "markdown",
   "metadata": {},
   "source": [
    "# Introduction to Computer Programming\n",
    "### Disclaimer\n",
    "This is a repository with the code for a variety of algorithms. The code is written in Python and uses the following libraries:\n",
    "- math\n",
    "- random\n",
    "\n",
    "Use at your own risk. The code is not guaranteed to be correct or to work as intended. \n",
    "\n",
    "## Group 1 \n",
    "- author: Joao Ferreira\n",
    "- date: 2023-03-08\n",
    "- notebook: LEM_PC1/exe1.ipynb"
   ]
  },
  {
   "cell_type": "code",
   "execution_count": 59,
   "metadata": {},
   "outputs": [],
   "source": [
    "# import math module to use math functions\n",
    "import math\n",
    "import random"
   ]
  },
  {
   "attachments": {},
   "cell_type": "markdown",
   "metadata": {},
   "source": [
    "## 1 - Check if an integer is even or odd"
   ]
  },
  {
   "cell_type": "code",
   "execution_count": 2,
   "metadata": {},
   "outputs": [
    {
     "name": "stdout",
     "output_type": "stream",
     "text": [
      "Is 4 even? True\n",
      "Is 5 even? False\n"
     ]
    }
   ],
   "source": [
    "# function to check if a number is even or odd\n",
    "# input: n - integer\n",
    "# output: True if n is even, False if n is odd\n",
    "def is_even(n):\n",
    "    #calculate the remainder of n/2\n",
    "    # integer division // returns the quotient\n",
    "    q = (n//2) #or math.floor(n/2)\n",
    "    # calculate the remainder of n//2\n",
    "    r = n - 2*q # or simply r = n % 2\n",
    "    if r == 0:\n",
    "        return True\n",
    "    else:\n",
    "        return False\n",
    "\n",
    "number4 = 4\n",
    "print(\"Is\", number4, \"even?\", is_even(number4))\n",
    "number5 = 5\n",
    "print(\"Is\", number5, \"even?\", is_even(number5))\n"
   ]
  },
  {
   "attachments": {},
   "cell_type": "markdown",
   "metadata": {},
   "source": [
    "## 2 - Calculate the roots of a quadratic equation"
   ]
  },
  {
   "cell_type": "code",
   "execution_count": 5,
   "metadata": {},
   "outputs": [
    {
     "name": "stdout",
     "output_type": "stream",
     "text": [
      "The roots of 1x^2 + 2x + 1 are [-1.0]\n",
      "The roots of 1x^2 + 2x + 3 are []\n",
      "The roots of 1x^2 + 4x + 4 are [-2.0]\n"
     ]
    }
   ],
   "source": [
    "# function to calculate the real roots of a quadratic equation\n",
    "# input: a, b, c - coefficients of the quadratic equation\n",
    "# output: a list of real roots\n",
    "def quadratic_roots(a, b, c):\n",
    "    # calculate the discriminant\n",
    "    d = b**2 - 4*a*c\n",
    "    # if discriminant is negative, return an empty list\n",
    "    if d < 0:\n",
    "        return []\n",
    "    # if discriminant is zero, return a list with one root\n",
    "    elif d == 0:\n",
    "        x = -b/(2*a)\n",
    "        return [x]\n",
    "    # if discriminant is positive, return a list with two roots\n",
    "    else:\n",
    "        x1 = (-b + math.sqrt(d))/(2*a)\n",
    "        x2 = (-b - math.sqrt(d))/(2*a)\n",
    "        return [x1, x2]\n",
    "\n",
    "# test the function with a quadratic equation with two real roots\n",
    "a,b,c = 1,2,1\n",
    "# print the roots of the quadratic equation. use f-string to format the output\n",
    "print(f\"The roots of {a}x^2 + {b}x + {c} are {quadratic_roots(a, b, c)}\")\n",
    "# test the function with a quadratic equation with no real roots\n",
    "a,b,c = 1,2,3\n",
    "print(f\"The roots of {a}x^2 + {b}x + {c} are {quadratic_roots(a, b, c)}\")\n",
    "# test the function with a quadratic equation with one real root\n",
    "a,b,c = 1,4,4\n",
    "print(f\"The roots of {a}x^2 + {b}x + {c} are {quadratic_roots(a, b, c)}\")\n",
    "\n"
   ]
  },
  {
   "attachments": {},
   "cell_type": "markdown",
   "metadata": {},
   "source": [
    "## 3 - Check if an integer is multiple of 3 or 11"
   ]
  },
  {
   "cell_type": "code",
   "execution_count": 8,
   "metadata": {},
   "outputs": [
    {
     "name": "stdout",
     "output_type": "stream",
     "text": [
      "Is 33 multiple of 3 or 11? True\n",
      "Is 20 multiple of 3 or 11? False\n"
     ]
    }
   ],
   "source": [
    "# function to verify if a number is multiple of another number\n",
    "# input: n, m - integers\n",
    "# output: True if n is multiple of m, False otherwise\n",
    "def is_multiple(n, m):\n",
    "    # calculate the remainder of n/m\n",
    "    r = n % m\n",
    "    if r == 0:\n",
    "        return True\n",
    "    else:\n",
    "        return False\n",
    "    \n",
    "# function to verify if a number is multiple of 3 or 11. use is_multiple function\n",
    "# input: n - integer\n",
    "# output: True if n is multiple of 3 or 11, False otherwise\n",
    "def is_multiple_3_11(n):\n",
    "    if is_multiple(n, 3) or is_multiple(n, 11):\n",
    "        return True\n",
    "    else:\n",
    "        return False\n",
    "\n",
    "# test the function\n",
    "number = 33\n",
    "print(\"Is\", number, \"multiple of 3 or 11?\", is_multiple_3_11(number))\n",
    "number = 20\n",
    "print(\"Is\", number, \"multiple of 3 or 11?\", is_multiple_3_11(number))\n",
    "    "
   ]
  },
  {
   "attachments": {},
   "cell_type": "markdown",
   "metadata": {},
   "source": [
    "## 4 - Write all integers between a and b that are multiples of 5 but not of 6"
   ]
  },
  {
   "cell_type": "code",
   "execution_count": 24,
   "metadata": {},
   "outputs": [
    {
     "name": "stdout",
     "output_type": "stream",
     "text": [
      "The numbers in the interval [1,100] that are multiple of 5 but not multiple of 6 are: \n",
      " [5, 10, 15, 20, 25, 35, 40, 45, 50, 55, 65, 70, 75, 80, 85, 95, 100]\n"
     ]
    }
   ],
   "source": [
    "# function to write all integerrs in the interval [a,b] that are multiple of m but not multiple of l\n",
    "# input: a, b, m, l - integers\n",
    "# output: a list of integers\n",
    "def multiples(a, b, m, l):\n",
    "    # create an empty list\n",
    "    lst = []\n",
    "    # iterate over the interval [a,b]\n",
    "    for i in range(a, b+1):\n",
    "        # check if i is multiple of m but not multiple of l\n",
    "        if is_multiple(i, m) and not is_multiple(i, l): # this function was defined in the previous exercise\n",
    "            # add i to the list\n",
    "            lst.append(i)\n",
    "    return lst\n",
    "\n",
    "# test the function\n",
    "a,b,m,l = 1, 100, 5, 6\n",
    "print(f\"The numbers in the interval [{a},{b}] that are multiple of {m} but not multiple of {l} are: \\n {multiples(a, b, m, l)}\")"
   ]
  },
  {
   "attachments": {},
   "cell_type": "markdown",
   "metadata": {},
   "source": [
    "## 5 - Compute the sum of all even integers between a and b\n"
   ]
  },
  {
   "cell_type": "code",
   "execution_count": 25,
   "metadata": {},
   "outputs": [
    {
     "name": "stdout",
     "output_type": "stream",
     "text": [
      "The sum of all even integers between 3000 and 7800 is 12965400\n"
     ]
    }
   ],
   "source": [
    "# function to compute the sum of all even integers between a and b. u\n",
    "# use range function with step 2. check if a is even or odd and if a > b\n",
    "# input: a, b - integers\n",
    "# output: the sum of all even integers between a and b\n",
    "def sum_even(a, b):\n",
    "    # initialize the sum\n",
    "    s = 0\n",
    "    # update a if it is odd\n",
    "    if not is_even(a):\n",
    "        a += 1\n",
    "        # iterate over the interval [a,b] with step 2\n",
    "    for i in range(a, b+1, 2):\n",
    "        # add i to the sum\n",
    "        s += i\n",
    "    return s\n",
    "    \n",
    "# test the function for a=3000, b=7800\n",
    "a,b = 3000, 7800\n",
    "print(f\"The sum of all even integers between {a} and {b} is {sum_even(a, b)}\")"
   ]
  },
  {
   "attachments": {},
   "cell_type": "markdown",
   "metadata": {},
   "source": [
    "## 6 - Calculate the factorial of a given integer"
   ]
  },
  {
   "cell_type": "code",
   "execution_count": 29,
   "metadata": {},
   "outputs": [
    {
     "name": "stdout",
     "output_type": "stream",
     "text": [
      "5! = 120\n",
      "0! = 1\n",
      "1! = 1\n"
     ]
    }
   ],
   "source": [
    "# function to calculate the factorial\n",
    "# input: n - integer\n",
    "# output: n!\n",
    "def factorial(n):\n",
    "    # initialize the factorial\n",
    "    f = 1\n",
    "    # iterate over the interval [1,n]\n",
    "    for i in range(1, n+1):\n",
    "        # multiply i to the factorial\n",
    "        f *= i\n",
    "    return f\n",
    "\n",
    "# test the function\n",
    "n = 5\n",
    "print(f\"{n}! = {factorial(n)}\")\n",
    "# test the function for n=0\n",
    "n = 0\n",
    "print(f\"{n}! = {factorial(n)}\")\n",
    "n = 1\n",
    "print(f\"{n}! = {factorial(n)}\")\n"
   ]
  },
  {
   "attachments": {},
   "cell_type": "markdown",
   "metadata": {},
   "source": [
    "## 7 - Get all the divisors of a given integer"
   ]
  },
  {
   "cell_type": "code",
   "execution_count": 37,
   "metadata": {},
   "outputs": [
    {
     "name": "stdout",
     "output_type": "stream",
     "text": [
      "The divisors of 200 are: [1, 2, 4, 5, 8, 10, 20, 25, 40, 50, 100, 200]\n"
     ]
    }
   ],
   "source": [
    "# function to collect all the divisors of a number\n",
    "# input: n - integer\n",
    "# output: a list of divisors of n\n",
    "def divisors(n):\n",
    "    # create an empty list\n",
    "    lst = []\n",
    "    # iterate over the interval [1,n//2]\n",
    "    for i in range(1, n+1//2):\n",
    "        # check if i is divisor of n\n",
    "        if is_multiple(n, i): # this function was defined in the previous exercise\n",
    "            # add i to the list\n",
    "            lst.append(i)\n",
    "    # add n to the list\n",
    "    lst.append(n)\n",
    "    return lst\n",
    "\n",
    "# test the function\n",
    "# print the divisors of 100\n",
    "n = 200\n",
    "print(f\"The divisors of {n} are: {divisors(n)}\") "
   ]
  },
  {
   "attachments": {},
   "cell_type": "markdown",
   "metadata": {},
   "source": [
    "## 8 - Check if a given integer is a perfect number.\n",
    "Perfect numbers are positive integers that are equal to the sum of their proper divisors. For example, 6 is a perfect number because 1 + 2 + 3 = 6."
   ]
  },
  {
   "cell_type": "code",
   "execution_count": 44,
   "metadata": {},
   "outputs": [
    {
     "name": "stdout",
     "output_type": "stream",
     "text": [
      "Is 6 perfect? True\n",
      "Is 496 perfect? True\n",
      "Is 100 perfect? False\n"
     ]
    }
   ],
   "source": [
    "# function to check if a number is perfect\n",
    "# input: n - integer\n",
    "# output: True if n is perfect, False otherwise\n",
    "def is_perfect(n):\n",
    "    # calculate the sum of divisors of n\n",
    "    s = sum(divisors(n)[:-1]) # divisors function was defined in the previous exercise. we don't want to add n (last element of list)to the sum\n",
    "    # check if the sum is equal to n\n",
    "    if s == n:\n",
    "        return True\n",
    "    else:\n",
    "        return False\n",
    "    \n",
    "# test the function\n",
    "n = 6\n",
    "print(f\"Is {n} perfect? {is_perfect(n)}\")\n",
    "n = 496\n",
    "print(f\"Is {n} perfect? {is_perfect(n)}\")\n",
    "n = 100\n",
    "print(f\"Is {n} perfect? {is_perfect(n)}\")\n"
   ]
  },
  {
   "attachments": {},
   "cell_type": "markdown",
   "metadata": {},
   "source": [
    "## 9 - Given a list of integers, calculate mean, first minimum and position, last maximum and position, occurrences of maximum.  "
   ]
  },
  {
   "cell_type": "code",
   "execution_count": 58,
   "metadata": {},
   "outputs": [
    {
     "name": "stdout",
     "output_type": "stream",
     "text": [
      "[2, 5, 1, 9, 10, 2, 20, 5, 1, 20, 15]\n",
      "The mean is 8.0,\n",
      "the first minimum is 1 and it is in position 2,\n",
      "the last maximum is 20 and it is in position 9,\n",
      "the number of occurences of the maximum is 2\n"
     ]
    }
   ],
   "source": [
    "#function to calculate mean, first minimum and position, last maximum and position, occurences of maximum  in a list\n",
    "def lst_statistics(lst):\n",
    "    #initialize the mean\n",
    "    mean = 0\n",
    "    #initializations the first minimum\n",
    "    first_min,first_min_pos = lst[0],0\n",
    "    last_max,last_max_pos = lst[0],0\n",
    "    max_occ = 0\n",
    "    #loop over the list. start from the second element\n",
    "    for i in range(1, len(lst)):\n",
    "        #update the mean\n",
    "        mean += lst[i]\n",
    "        #update the first minimum\n",
    "        if lst[i] < first_min:\n",
    "            first_min = lst[i]\n",
    "            first_min_pos = i\n",
    "        #update the last maximum\n",
    "        if lst[i] > last_max:\n",
    "            last_max = lst[i]\n",
    "            # reset the number of occurences of the maximum\n",
    "            max_occ = 0\n",
    "        #update the maximum\n",
    "        if lst[i] == last_max:\n",
    "            last_max_pos = i\n",
    "            max_occ += 1\n",
    "    #calculate the mean\n",
    "    mean = mean/len(lst)\n",
    "    return mean, first_min, first_min_pos, last_max, last_max_pos, max_occ\n",
    "\n",
    "#test the function\n",
    "l = [2, 5, 1, 9, 10, 2, 20, 5, 1, 20, 15]\n",
    "print(l)\n",
    "print(f\"The mean is {lst_statistics(l)[0]},\\nthe first minimum is {lst_statistics(l)[1]}\",\n",
    "    f\"and it is in position {lst_statistics(l)[2]},\\nthe last maximum is {lst_statistics(l)[3]}\",\n",
    "    f\"and it is in position {lst_statistics(l)[4]},\\nthe number of occurences of the maximum is {lst_statistics(l)[5]}\")\n"
   ]
  },
  {
   "attachments": {},
   "cell_type": "markdown",
   "metadata": {},
   "source": [
    "## 11 - Generate random integers between a and b until a multiple of k is found"
   ]
  },
  {
   "cell_type": "code",
   "execution_count": 66,
   "metadata": {},
   "outputs": [
    {
     "name": "stdout",
     "output_type": "stream",
     "text": [
      "Random number between 1 and 1000 that is multiple of 15 is 900 and it was found after 7 attempts\n"
     ]
    }
   ],
   "source": [
    "# function to generate random integers between a and b until a multiple of k is found\n",
    "def find_multiple_from_random(a,b,k):\n",
    "    # generate a random integer between a and b\n",
    "    n = random.randint(a,b)\n",
    "    # count the number of attempts\n",
    "    attempts = 1\n",
    "    # check if n is multiple of k\n",
    "    while not is_multiple(n, k): # this function was defined in the previous exercise\n",
    "        # generate a new random integer between a and b\n",
    "        n = random.randint(a,b)\n",
    "        # update the number of attempts\n",
    "        attempts += 1\n",
    "    return n, attempts\n",
    "\n",
    "# test the function for a=1, b=1000, k=5\n",
    "a,b,k = 1, 1000, 15\n",
    "print(f\"Random number between {a} and {b} that is multiple of {k} is {find_multiple_from_random(a,b,k)[0]}\",\n",
    "    f\"and it was found after {find_multiple_from_random(a,b,k)[1]} attempts\")\n"
   ]
  },
  {
   "attachments": {},
   "cell_type": "markdown",
   "metadata": {},
   "source": [
    "## 12 - Generate random integers between a and b until the sum of the founded odds is greater than k"
   ]
  },
  {
   "cell_type": "code",
   "execution_count": 72,
   "metadata": {},
   "outputs": [
    {
     "name": "stdout",
     "output_type": "stream",
     "text": [
      "Generations of odds in [1,19] while their sum is less than 100: 88. It took 9 attempts\n"
     ]
    }
   ],
   "source": [
    "# function to generate random integers between a and b while the sum of the founded odds is less than k.\n",
    "# use random.randrange function\n",
    "def find_sum_of_odds_from_random(a,b,k):\n",
    "    # check if a is even\n",
    "    if is_even(a):\n",
    "        a += 1 # if a is even, add 1 to a\n",
    "    # generate a random integer between a and b\n",
    "    n = random.randrange(a,b+1,2)\n",
    "    # initialize the sum. n is odd\n",
    "    s = n\n",
    "    # count the number of attempts\n",
    "    attempts = 1\n",
    "    # check if the sum is less than k\n",
    "    while s < k:\n",
    "        # generate a new random integer between a and b\n",
    "        n = random.randrange(a,b+1,2)\n",
    "        # update the sum\n",
    "        s += n\n",
    "        # update the number of attempts\n",
    "        attempts += 1\n",
    "    # rectify the sum\n",
    "    s -= n\n",
    "    return s, attempts\n",
    "\n",
    "# test the function for a=1, b=1000, k=100\n",
    "a,b,k = 1, 19, 100\n",
    "ss, iterations = find_sum_of_odds_from_random(a,b,k)\n",
    "print(f\"Generations of odds in [{a},{b}] while their sum is less than {k}: {ss}. It took {iterations} attempts\")"
   ]
  },
  {
   "attachments": {},
   "cell_type": "markdown",
   "metadata": {},
   "source": [
    "## 14 - Calculate the series $\\sum_{n=0}^{\\infty}{\\left(-1\\right)^n \\frac{\\mathrm{e}^n}{n!}}$ with an error less than an input error"
   ]
  },
  {
   "cell_type": "code",
   "execution_count": 84,
   "metadata": {},
   "outputs": [
    {
     "name": "stdout",
     "output_type": "stream",
     "text": [
      "The sum of the series is 0.06599016995261595 and the error is 2.134107303403132e-06 < 0.0001\n"
     ]
    }
   ],
   "source": [
    "# function to calculate the series\n",
    "# input: error - float\n",
    "# output: the sum of the series\n",
    "def serie14(error):\n",
    "    # initialize the term\n",
    "    t = 1\n",
    "    # initialize the sum\n",
    "    s = t\n",
    "    # initialize the index\n",
    "    i = 1\n",
    "    # initialize the tolerance\n",
    "    tol = error + 1\n",
    "    # loop until the term is less than the error\n",
    "    while tol > error:\n",
    "        # update the last term\n",
    "        t_old = t\n",
    "        # update the term\n",
    "        t = (-1)**i *(math.exp(i)/factorial(i))\n",
    "        # update the sum\n",
    "        s += t\n",
    "        # update the index\n",
    "        i += 1\n",
    "        # update the tolerance\n",
    "        tol = abs(t_old - t)\n",
    "    return s\n",
    "\n",
    "# test the function\n",
    "error = 0.0001\n",
    "print(f\"The sum of the series is {serie14(error)} and the error is {abs(math.exp(-math.exp(1))- serie14(error))} < {error}\")"
   ]
  },
  {
   "attachments": {},
   "cell_type": "markdown",
   "metadata": {},
   "source": [
    "## 15 -  Check if an integer is prime"
   ]
  },
  {
   "cell_type": "code",
   "execution_count": 91,
   "metadata": {},
   "outputs": [
    {
     "name": "stdout",
     "output_type": "stream",
     "text": [
      "Is 1000000007 prime? True\n",
      "Is 1000000013 prime? False\n"
     ]
    }
   ],
   "source": [
    "def is_divisible(n,d):\n",
    "    if n%d == 0:\n",
    "        return True\n",
    "    else:\n",
    "        return False\n",
    "# function to check if a number is prime\n",
    "# input: n - integer\n",
    "# output: True if n is prime, False otherwise\n",
    "def is_prime(n):\n",
    "    # check if n is even\n",
    "    if is_even(n):\n",
    "        return False\n",
    "    # check if n is divisible by any odd number between 3 and sqrt(n)\n",
    "    for i in range(3, int(math.sqrt(n))+1, 2):\n",
    "        if is_divisible(n,i):\n",
    "            return False\n",
    "    return True\n",
    "\n",
    "# test the function for a large prime\n",
    "n = 1000000007\n",
    "print(f\"Is {n} prime? {is_prime(n)}\")\n",
    "# test the function for a large number\n",
    "n = 1000000013\n",
    "print(f\"Is {n} prime? {is_prime(n)}\")"
   ]
  },
  {
   "attachments": {},
   "cell_type": "markdown",
   "metadata": {},
   "source": [
    "## 19 - Calculate the first prime number greater than a given integer"
   ]
  },
  {
   "cell_type": "code",
   "execution_count": 92,
   "metadata": {},
   "outputs": [
    {
     "name": "stdout",
     "output_type": "stream",
     "text": [
      "The first prime number greater than 1000000000 is 1000000007\n"
     ]
    }
   ],
   "source": [
    "# function to calculate the first prime number greater than a given integer\n",
    "# input: n - integer\n",
    "# output: the first prime number greater than n\n",
    "def next_prime(n):\n",
    "    # check if n is even\n",
    "    if is_even(n):\n",
    "        n += 1 # if n is even, add 1 to n\n",
    "    # loop until the next prime is found\n",
    "    while not is_prime(n):\n",
    "        n += 2 # if n is not prime, add 2 to n. this way, n will be odd\n",
    "    return n\n",
    "\n",
    "# test the function\n",
    "n = 1000000000\n",
    "print(f\"The first prime number greater than {n} is {next_prime(n)}\")"
   ]
  },
  {
   "attachments": {},
   "cell_type": "markdown",
   "metadata": {},
   "source": [
    "## 20 - Check if an integer is Armstrong. Get the first k Armstrong numbers with 3 digits.\n",
    "\n",
    "An Armstrong number is an integer such that the sum of the cubes of its digits is equal to the number itself. For example, 371 is an Armstrong number since $3^3 + 7^3 + 1^3 = 371$."
   ]
  },
  {
   "cell_type": "code",
   "execution_count": 97,
   "metadata": {},
   "outputs": [
    {
     "name": "stdout",
     "output_type": "stream",
     "text": [
      "Is 371 Armstrong? True\n",
      "Is 372 Armstrong? False\n",
      "The first 10 Armstrong numbers with at least 3 digits are [153, 370, 371, 407, 1634, 8208, 9474, 54748, 92727, 93084]\n"
     ]
    }
   ],
   "source": [
    "# function to check if integer is Armstrong\n",
    "# input: n - integer\n",
    "# output: True if n is Armstrong, False otherwise\n",
    "def is_armstrong(n):\n",
    "    # initialize the sum\n",
    "    s = 0\n",
    "    # initialize the number of digits\n",
    "    digits = 0\n",
    "    # initialize the number\n",
    "    n_old = n\n",
    "    # count the number of digits\n",
    "    while n_old > 0:\n",
    "        n_old = n_old//10\n",
    "        digits += 1\n",
    "    # calculate the sum\n",
    "    n_old = n\n",
    "    while n_old > 0:\n",
    "        s += (n_old%10)**digits\n",
    "        n_old = n_old//10\n",
    "    # check if the sum is equal to the original number\n",
    "    if s == n:\n",
    "        return True\n",
    "    else:\n",
    "        return False\n",
    "    \n",
    "# function to get the first k Armstrong numbers with n digits\n",
    "# input: n - integer, k - integer\n",
    "# output: the first k Armstrong numbers with n digits\n",
    "def get_armstrong_numbers(n,k):\n",
    "    # initialize the list\n",
    "    l = []\n",
    "    # initialize the number. the first Armstrong number with n digits is 10**(n-1)\n",
    "    i = 10**(n-1)\n",
    "    # loop until k Armstrong numbers are found\n",
    "    while len(l) < k:\n",
    "        # check if i is Armstrong\n",
    "        if is_armstrong(i):\n",
    "            # add i to the list\n",
    "            l.append(i)\n",
    "        # update i\n",
    "        i += 1\n",
    "    return l\n",
    "\n",
    "#test if 371 is Armstrong\n",
    "n = 371\n",
    "print(f\"Is {n} Armstrong? {is_armstrong(n)}\")\n",
    "n = 372\n",
    "print(f\"Is {n} Armstrong? {is_armstrong(n)}\")\n",
    "\n",
    "# count the number of Armstrong numbers with 3 digits\n",
    "n = 3\n",
    "k = 10\n",
    "print(f\"The first {k} Armstrong numbers with at least {n} digits are {get_armstrong_numbers(n,k)}\")"
   ]
  },
  {
   "cell_type": "code",
   "execution_count": null,
   "metadata": {},
   "outputs": [],
   "source": []
  }
 ],
 "metadata": {
  "kernelspec": {
   "display_name": "venv",
   "language": "python",
   "name": "python3"
  },
  "language_info": {
   "codemirror_mode": {
    "name": "ipython",
    "version": 3
   },
   "file_extension": ".py",
   "mimetype": "text/x-python",
   "name": "python",
   "nbconvert_exporter": "python",
   "pygments_lexer": "ipython3",
   "version": "3.10.10"
  },
  "orig_nbformat": 4,
  "vscode": {
   "interpreter": {
    "hash": "deb036c98a16ed2e6df904ef52ed94b0ef697bf7baa82cc0911e04ace82bf525"
   }
  }
 },
 "nbformat": 4,
 "nbformat_minor": 2
}
