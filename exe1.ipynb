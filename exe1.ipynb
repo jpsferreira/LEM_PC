{
 "cells": [
  {
   "cell_type": "code",
   "execution_count": 1,
   "metadata": {},
   "outputs": [],
   "source": [
    "# import math module to use math functions\n",
    "import math"
   ]
  },
  {
   "cell_type": "code",
   "execution_count": 7,
   "metadata": {},
   "outputs": [
    {
     "name": "stdout",
     "output_type": "stream",
     "text": [
      "Is 4 even? True\n",
      "Is 5 even? False\n"
     ]
    }
   ],
   "source": [
    "#check if a integer is even\n",
    "def is_even(n):\n",
    "    #calculate the remainder of n/2\n",
    "    # integer division // returns the quotient\n",
    "    q = (n//2) #or math.floor(n/2)\n",
    "    # calculate the remainder of n//2\n",
    "    r = n - 2*q\n",
    "    if r == 0:\n",
    "        return True\n",
    "    else:\n",
    "        return False\n",
    "\n",
    "#test is_even function for some cases\n",
    "assert is_even(2) == True\n",
    "assert is_even(3) == False\n",
    "assert is_even(8) == True\n",
    "assert is_even(100) == True\n",
    "assert is_even(101) == False\n",
    "\n",
    "number4 = 4\n",
    "print(\"Is\", number4, \"even?\", is_even(number4))\n",
    "number5 = 5\n",
    "print(\"Is\", number5, \"even?\", is_even(number5))\n"
   ]
  },
  {
   "cell_type": "code",
   "execution_count": null,
   "metadata": {},
   "outputs": [],
   "source": []
  }
 ],
 "metadata": {
  "kernelspec": {
   "display_name": "venv",
   "language": "python",
   "name": "python3"
  },
  "language_info": {
   "codemirror_mode": {
    "name": "ipython",
    "version": 3
   },
   "file_extension": ".py",
   "mimetype": "text/x-python",
   "name": "python",
   "nbconvert_exporter": "python",
   "pygments_lexer": "ipython3",
   "version": "3.10.8"
  },
  "orig_nbformat": 4,
  "vscode": {
   "interpreter": {
    "hash": "deb036c98a16ed2e6df904ef52ed94b0ef697bf7baa82cc0911e04ace82bf525"
   }
  }
 },
 "nbformat": 4,
 "nbformat_minor": 2
}
