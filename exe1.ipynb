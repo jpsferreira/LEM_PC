{
 "cells": [
  {
   "attachments": {},
   "cell_type": "markdown",
   "metadata": {},
   "source": [
    "# Introduction to Computer Programming\n",
    "## Group 1 \n",
    "- author: Joao Ferreira\n",
    "- date: 2023-03-08\n",
    "- notebook: LEM_PC1/exe1.ipynb"
   ]
  },
  {
   "cell_type": "code",
   "execution_count": 1,
   "metadata": {},
   "outputs": [],
   "source": [
    "# import math module to use math functions\n",
    "import math"
   ]
  },
  {
   "attachments": {},
   "cell_type": "markdown",
   "metadata": {},
   "source": [
    "## 1 - Check if an integer is even or odd"
   ]
  },
  {
   "cell_type": "code",
   "execution_count": 2,
   "metadata": {},
   "outputs": [
    {
     "name": "stdout",
     "output_type": "stream",
     "text": [
      "Is 4 even? True\n",
      "Is 5 even? False\n"
     ]
    }
   ],
   "source": [
    "# function to check if a number is even or odd\n",
    "# input: n - integer\n",
    "# output: True if n is even, False if n is odd\n",
    "def is_even(n):\n",
    "    #calculate the remainder of n/2\n",
    "    # integer division // returns the quotient\n",
    "    q = (n//2) #or math.floor(n/2)\n",
    "    # calculate the remainder of n//2\n",
    "    r = n - 2*q # or simply r = n % 2\n",
    "    if r == 0:\n",
    "        return True\n",
    "    else:\n",
    "        return False\n",
    "\n",
    "number4 = 4\n",
    "print(\"Is\", number4, \"even?\", is_even(number4))\n",
    "number5 = 5\n",
    "print(\"Is\", number5, \"even?\", is_even(number5))\n"
   ]
  },
  {
   "attachments": {},
   "cell_type": "markdown",
   "metadata": {},
   "source": [
    "## 2 - Calculate the roots of a quadratic equation"
   ]
  },
  {
   "cell_type": "code",
   "execution_count": 5,
   "metadata": {},
   "outputs": [
    {
     "name": "stdout",
     "output_type": "stream",
     "text": [
      "The roots of 1x^2 + 2x + 1 are [-1.0]\n",
      "The roots of 1x^2 + 2x + 3 are []\n",
      "The roots of 1x^2 + 4x + 4 are [-2.0]\n"
     ]
    }
   ],
   "source": [
    "# function to calculate the real roots of a quadratic equation\n",
    "# input: a, b, c - coefficients of the quadratic equation\n",
    "# output: a list of real roots\n",
    "def quadratic_roots(a, b, c):\n",
    "    # calculate the discriminant\n",
    "    d = b**2 - 4*a*c\n",
    "    # if discriminant is negative, return an empty list\n",
    "    if d < 0:\n",
    "        return []\n",
    "    # if discriminant is zero, return a list with one root\n",
    "    elif d == 0:\n",
    "        x = -b/(2*a)\n",
    "        return [x]\n",
    "    # if discriminant is positive, return a list with two roots\n",
    "    else:\n",
    "        x1 = (-b + math.sqrt(d))/(2*a)\n",
    "        x2 = (-b - math.sqrt(d))/(2*a)\n",
    "        return [x1, x2]\n",
    "\n",
    "# test the function with a quadratic equation with two real roots\n",
    "a,b,c = 1,2,1\n",
    "# print the roots of the quadratic equation. use f-string to format the output\n",
    "print(f\"The roots of {a}x^2 + {b}x + {c} are {quadratic_roots(a, b, c)}\")\n",
    "# test the function with a quadratic equation with no real roots\n",
    "a,b,c = 1,2,3\n",
    "print(f\"The roots of {a}x^2 + {b}x + {c} are {quadratic_roots(a, b, c)}\")\n",
    "# test the function with a quadratic equation with one real root\n",
    "a,b,c = 1,4,4\n",
    "print(f\"The roots of {a}x^2 + {b}x + {c} are {quadratic_roots(a, b, c)}\")\n",
    "\n"
   ]
  },
  {
   "attachments": {},
   "cell_type": "markdown",
   "metadata": {},
   "source": [
    "## 3 - Check if an integer is multiple of 3 or 11"
   ]
  },
  {
   "cell_type": "code",
   "execution_count": 8,
   "metadata": {},
   "outputs": [
    {
     "name": "stdout",
     "output_type": "stream",
     "text": [
      "Is 33 multiple of 3 or 11? True\n",
      "Is 20 multiple of 3 or 11? False\n"
     ]
    }
   ],
   "source": [
    "# function to verify if a number is multiple of another number\n",
    "# input: n, m - integers\n",
    "# output: True if n is multiple of m, False otherwise\n",
    "def is_multiple(n, m):\n",
    "    # calculate the remainder of n/m\n",
    "    r = n % m\n",
    "    if r == 0:\n",
    "        return True\n",
    "    else:\n",
    "        return False\n",
    "    \n",
    "# function to verify if a number is multiple of 3 or 11. use is_multiple function\n",
    "# input: n - integer\n",
    "# output: True if n is multiple of 3 or 11, False otherwise\n",
    "def is_multiple_3_11(n):\n",
    "    if is_multiple(n, 3) or is_multiple(n, 11):\n",
    "        return True\n",
    "    else:\n",
    "        return False\n",
    "\n",
    "# test the function\n",
    "number = 33\n",
    "print(\"Is\", number, \"multiple of 3 or 11?\", is_multiple_3_11(number))\n",
    "number = 20\n",
    "print(\"Is\", number, \"multiple of 3 or 11?\", is_multiple_3_11(number))\n",
    "    "
   ]
  },
  {
   "attachments": {},
   "cell_type": "markdown",
   "metadata": {},
   "source": [
    "## 4 - Write all integers between a and b that are multiples of 5 but not of 6"
   ]
  },
  {
   "cell_type": "code",
   "execution_count": 24,
   "metadata": {},
   "outputs": [
    {
     "name": "stdout",
     "output_type": "stream",
     "text": [
      "The numbers in the interval [1,100] that are multiple of 5 but not multiple of 6 are: \n",
      " [5, 10, 15, 20, 25, 35, 40, 45, 50, 55, 65, 70, 75, 80, 85, 95, 100]\n"
     ]
    }
   ],
   "source": [
    "# function to write all integerrs in the interval [a,b] that are multiple of m but not multiple of l\n",
    "# input: a, b, m, l - integers\n",
    "# output: a list of integers\n",
    "def multiples(a, b, m, l):\n",
    "    # create an empty list\n",
    "    lst = []\n",
    "    # iterate over the interval [a,b]\n",
    "    for i in range(a, b+1):\n",
    "        # check if i is multiple of m but not multiple of l\n",
    "        if is_multiple(i, m) and not is_multiple(i, l): # this function was defined in the previous exercise\n",
    "            # add i to the list\n",
    "            lst.append(i)\n",
    "    return lst\n",
    "\n",
    "# test the function\n",
    "a,b,m,l = 1, 100, 5, 6\n",
    "print(f\"The numbers in the interval [{a},{b}] that are multiple of {m} but not multiple of {l} are: \\n {multiples(a, b, m, l)}\")"
   ]
  },
  {
   "attachments": {},
   "cell_type": "markdown",
   "metadata": {},
   "source": [
    "## 5 - Compute the sum of all even integers between a and b\n"
   ]
  },
  {
   "cell_type": "code",
   "execution_count": 25,
   "metadata": {},
   "outputs": [
    {
     "name": "stdout",
     "output_type": "stream",
     "text": [
      "The sum of all even integers between 3000 and 7800 is 12965400\n"
     ]
    }
   ],
   "source": [
    "# function to compute the sum of all even integers between a and b. u\n",
    "# use range function with step 2. check if a is even or odd and if a > b\n",
    "# input: a, b - integers\n",
    "# output: the sum of all even integers between a and b\n",
    "def sum_even(a, b):\n",
    "    # initialize the sum\n",
    "    s = 0\n",
    "    # update a if it is odd\n",
    "    if not is_even(a):\n",
    "        a += 1\n",
    "        # iterate over the interval [a,b] with step 2\n",
    "    for i in range(a, b+1, 2):\n",
    "        # add i to the sum\n",
    "        s += i\n",
    "    return s\n",
    "    \n",
    "# test the function for a=3000, b=7800\n",
    "a,b = 3000, 7800\n",
    "print(f\"The sum of all even integers between {a} and {b} is {sum_even(a, b)}\")"
   ]
  },
  {
   "attachments": {},
   "cell_type": "markdown",
   "metadata": {},
   "source": [
    "## 6 - Calculate the factorial of a given integer"
   ]
  },
  {
   "cell_type": "code",
   "execution_count": 29,
   "metadata": {},
   "outputs": [
    {
     "name": "stdout",
     "output_type": "stream",
     "text": [
      "5! = 120\n",
      "0! = 1\n",
      "1! = 1\n"
     ]
    }
   ],
   "source": [
    "# function to calculate the factorial\n",
    "# input: n - integer\n",
    "# output: n!\n",
    "def factorial(n):\n",
    "    # initialize the factorial\n",
    "    f = 1\n",
    "    # iterate over the interval [1,n]\n",
    "    for i in range(1, n+1):\n",
    "        # multiply i to the factorial\n",
    "        f *= i\n",
    "    return f\n",
    "\n",
    "# test the function\n",
    "n = 5\n",
    "print(f\"{n}! = {factorial(n)}\")\n",
    "# test the function for n=0\n",
    "n = 0\n",
    "print(f\"{n}! = {factorial(n)}\")\n",
    "n = 1\n",
    "print(f\"{n}! = {factorial(n)}\")\n"
   ]
  },
  {
   "attachments": {},
   "cell_type": "markdown",
   "metadata": {},
   "source": [
    "## 7 - Get all the divisors of a given integer"
   ]
  },
  {
   "cell_type": "code",
   "execution_count": 37,
   "metadata": {},
   "outputs": [
    {
     "name": "stdout",
     "output_type": "stream",
     "text": [
      "The divisors of 200 are: [1, 2, 4, 5, 8, 10, 20, 25, 40, 50, 100, 200]\n"
     ]
    }
   ],
   "source": [
    "# function to collect all the divisors of a number\n",
    "# input: n - integer\n",
    "# output: a list of divisors of n\n",
    "def divisors(n):\n",
    "    # create an empty list\n",
    "    lst = []\n",
    "    # iterate over the interval [1,n//2]\n",
    "    for i in range(1, n+1//2):\n",
    "        # check if i is divisor of n\n",
    "        if is_multiple(n, i): # this function was defined in the previous exercise\n",
    "            # add i to the list\n",
    "            lst.append(i)\n",
    "    # add n to the list\n",
    "    lst.append(n)\n",
    "    return lst\n",
    "\n",
    "# test the function\n",
    "# print the divisors of 100\n",
    "n = 200\n",
    "print(f\"The divisors of {n} are: {divisors(n)}\") "
   ]
  },
  {
   "attachments": {},
   "cell_type": "markdown",
   "metadata": {},
   "source": [
    "## 8 - Check if a given integer is a perfect number.\n",
    "Perfect numbers are positive integers that are equal to the sum of their proper divisors. For example, 6 is a perfect number because 1 + 2 + 3 = 6."
   ]
  },
  {
   "cell_type": "code",
   "execution_count": 44,
   "metadata": {},
   "outputs": [
    {
     "name": "stdout",
     "output_type": "stream",
     "text": [
      "Is 6 perfect? True\n",
      "Is 496 perfect? True\n",
      "Is 100 perfect? False\n"
     ]
    }
   ],
   "source": [
    "# function to check if a number is perfect\n",
    "# input: n - integer\n",
    "# output: True if n is perfect, False otherwise\n",
    "def is_perfect(n):\n",
    "    # calculate the sum of divisors of n\n",
    "    s = sum(divisors(n)[:-1]) # divisors function was defined in the previous exercise. we don't want to add n (last element of list)to the sum\n",
    "    # check if the sum is equal to n\n",
    "    if s == n:\n",
    "        return True\n",
    "    else:\n",
    "        return False\n",
    "    \n",
    "# test the function\n",
    "n = 6\n",
    "print(f\"Is {n} perfect? {is_perfect(n)}\")\n",
    "n = 496\n",
    "print(f\"Is {n} perfect? {is_perfect(n)}\")\n",
    "n = 100\n",
    "print(f\"Is {n} perfect? {is_perfect(n)}\")\n"
   ]
  },
  {
   "cell_type": "code",
   "execution_count": null,
   "metadata": {},
   "outputs": [],
   "source": []
  }
 ],
 "metadata": {
  "kernelspec": {
   "display_name": "venv",
   "language": "python",
   "name": "python3"
  },
  "language_info": {
   "codemirror_mode": {
    "name": "ipython",
    "version": 3
   },
   "file_extension": ".py",
   "mimetype": "text/x-python",
   "name": "python",
   "nbconvert_exporter": "python",
   "pygments_lexer": "ipython3",
   "version": "3.10.8"
  },
  "orig_nbformat": 4,
  "vscode": {
   "interpreter": {
    "hash": "deb036c98a16ed2e6df904ef52ed94b0ef697bf7baa82cc0911e04ace82bf525"
   }
  }
 },
 "nbformat": 4,
 "nbformat_minor": 2
}
